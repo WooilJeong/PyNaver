{
 "cells": [
  {
   "cell_type": "code",
   "execution_count": 1,
   "metadata": {
    "ExecuteTime": {
     "end_time": "2022-09-01T04:20:48.675887Z",
     "start_time": "2022-09-01T04:20:48.664859Z"
    }
   },
   "outputs": [],
   "source": [
    "from config import config\n",
    "\n",
    "# 네이버 파파고 API\n",
    "papago_id = config['naver']['papago']['client_id']\n",
    "papago_pw = config['naver']['papago']['client_id']\n",
    "\n",
    "# 네이버 통합 검색어 API\n",
    "search_id = config['naver']['search']['client_id']\n",
    "search_pw = config['naver']['search']['client_secret']\n",
    "\n",
    "# 네이버 단축 URL API\n",
    "shorturl_id = config['naver']['shorturl']['client_id']\n",
    "shorturl_pw = config['naver']['shorturl']['client_secret']\n",
    "\n",
    "# 네이버 쇼핑인사이트 API\n",
    "shopping_id = config['naver']['shopping']['client_id']\n",
    "shopping_pw = config['naver']['shopping']['client_secret']\n",
    "\n",
    "# 네이버 클라우드 플랫폼 API\n",
    "cloud_id = config['cloud']['client_id']\n",
    "cloud_pw = config['cloud']['client_secret']"
   ]
  },
  {
   "cell_type": "code",
   "execution_count": 2,
   "metadata": {
    "ExecuteTime": {
     "end_time": "2022-09-01T04:20:49.162736Z",
     "start_time": "2022-09-01T04:20:48.820936Z"
    }
   },
   "outputs": [],
   "source": [
    "from PyNaver import Naver, NaverCloudPlatform"
   ]
  },
  {
   "cell_type": "code",
   "execution_count": null,
   "metadata": {},
   "outputs": [],
   "source": []
  },
  {
   "cell_type": "code",
   "execution_count": null,
   "metadata": {},
   "outputs": [],
   "source": []
  },
  {
   "cell_type": "code",
   "execution_count": null,
   "metadata": {},
   "outputs": [],
   "source": []
  },
  {
   "cell_type": "code",
   "execution_count": null,
   "metadata": {},
   "outputs": [],
   "source": []
  },
  {
   "cell_type": "code",
   "execution_count": null,
   "metadata": {},
   "outputs": [],
   "source": []
  },
  {
   "cell_type": "code",
   "execution_count": null,
   "metadata": {},
   "outputs": [],
   "source": []
  }
 ],
 "metadata": {
  "hide_input": false,
  "kernelspec": {
   "display_name": "Python 3",
   "language": "python",
   "name": "python3"
  },
  "language_info": {
   "codemirror_mode": {
    "name": "ipython",
    "version": 3
   },
   "file_extension": ".py",
   "mimetype": "text/x-python",
   "name": "python",
   "nbconvert_exporter": "python",
   "pygments_lexer": "ipython3",
   "version": "3.8.5"
  },
  "toc": {
   "base_numbering": 1,
   "nav_menu": {},
   "number_sections": true,
   "sideBar": true,
   "skip_h1_title": false,
   "title_cell": "Table of Contents",
   "title_sidebar": "Contents",
   "toc_cell": false,
   "toc_position": {},
   "toc_section_display": true,
   "toc_window_display": false
  },
  "varInspector": {
   "cols": {
    "lenName": 16,
    "lenType": 16,
    "lenVar": 40
   },
   "kernels_config": {
    "python": {
     "delete_cmd_postfix": "",
     "delete_cmd_prefix": "del ",
     "library": "var_list.py",
     "varRefreshCmd": "print(var_dic_list())"
    },
    "r": {
     "delete_cmd_postfix": ") ",
     "delete_cmd_prefix": "rm(",
     "library": "var_list.r",
     "varRefreshCmd": "cat(var_dic_list()) "
    }
   },
   "types_to_exclude": [
    "module",
    "function",
    "builtin_function_or_method",
    "instance",
    "_Feature"
   ],
   "window_display": false
  }
 },
 "nbformat": 4,
 "nbformat_minor": 4
}
