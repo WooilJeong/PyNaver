{
 "cells": [
  {
   "cell_type": "markdown",
   "metadata": {},
   "source": [
    "## API 구분\n",
    "\n",
    "\n",
    "- [네이버](https://developers.naver.com/docs/common/openapiguide/)\n",
    "    - 통합 검색어 트렌드 API\n",
    "    - 쇼핑인사이트 API\n",
    "\n",
    "- [클라우드 API](https://api.ncloud-docs.com/docs/api-overview)\n",
    "    - Geocoding\n",
    "    - Reverse Geocoding\n",
    "    - Static Map"
   ]
  },
  {
   "cell_type": "code",
   "execution_count": null,
   "metadata": {
    "ExecuteTime": {
     "end_time": "2022-08-31T06:07:24.718735Z",
     "start_time": "2022-08-31T06:07:24.701732Z"
    }
   },
   "outputs": [],
   "source": [
    "from config import config\n",
    "\n",
    "# 네이버 파파고 API\n",
    "papago_id = config['naver']['papago']['client_id']\n",
    "papago_pw = config['naver']['papago']['client_id']\n",
    "\n",
    "# 네이버 통합 검색어 API\n",
    "search_id = config['naver']['search']['client_id']\n",
    "search_pw = config['naver']['search']['client_secret']\n",
    "\n",
    "# 네이버 단축 URL API\n",
    "shorturl_id = config['naver']['shorturl']['client_id']\n",
    "shorturl_pw = config['naver']['shorturl']['client_secret']\n",
    "\n",
    "# 네이버 쇼핑인사이트 API\n",
    "shopping_id = config['naver']['shopping']['client_id']\n",
    "shopping_pw = config['naver']['shopping']['client_secret']\n",
    "\n",
    "# 네이버 클라우드 플랫폼 API\n",
    "cloud_id = config['cloud']['client_id']\n",
    "cloud_pw = config['cloud']['client_secret']"
   ]
  },
  {
   "cell_type": "code",
   "execution_count": null,
   "metadata": {
    "ExecuteTime": {
     "end_time": "2022-08-31T06:07:25.299064Z",
     "start_time": "2022-08-31T06:07:24.939629Z"
    }
   },
   "outputs": [],
   "source": [
    "import json\n",
    "import requests\n",
    "import pandas as pd"
   ]
  },
  {
   "cell_type": "markdown",
   "metadata": {},
   "source": [
    "## NAVER"
   ]
  },
  {
   "cell_type": "code",
   "execution_count": null,
   "metadata": {
    "ExecuteTime": {
     "end_time": "2022-09-01T03:10:13.845701Z",
     "start_time": "2022-09-01T03:10:13.817692Z"
    }
   },
   "outputs": [],
   "source": [
    "class Naver:\n",
    "    \"\"\"\n",
    "    네이버 API 클래스\n",
    "    \"\"\"\n",
    "\n",
    "    def __init__(self, client_id, client_secret):\n",
    "        \"\"\"\n",
    "        API 인증 정보 초기화\n",
    "        \"\"\"\n",
    "        self.headers = {\n",
    "            \"X-Naver-Client-Id\": client_id,\n",
    "            \"X-Naver-Client-Secret\": client_secret,\n",
    "            \"Content-Type\": \"application/json\",\n",
    "        }\n",
    "\n",
    "    def datalab_search(self, **kwargs):\n",
    "        \"\"\"\n",
    "        네이버 통합 검색어 트렌드 조회\n",
    "        - API 레퍼런스: https://developers.naver.com/docs/serviceapi/datalab/search/search.md\n",
    "        \"\"\"\n",
    "        url = \"https://openapi.naver.com/v1/datalab/search\"\n",
    "        data = {}\n",
    "        for k, v in kwargs.items():\n",
    "            data[k] = v\n",
    "        data = json.dumps(data, ensure_ascii=False).encode(\"utf-8\")\n",
    "        res = requests.post(url, data=data, headers=self.headers)\n",
    "\n",
    "        if res.status_code == 200:\n",
    "            data = res.json()['results']\n",
    "            num = len(data)\n",
    "            df = pd.DataFrame()\n",
    "            for i in range(num):\n",
    "                sub = pd.DataFrame(data[i]['data'])\n",
    "                sub['title'] = data[i]['title']\n",
    "                sub = sub[['title', 'period', 'ratio']]\n",
    "                df = pd.concat([df, sub], axis=0, ignore_index=True)\n",
    "            pivot = pd.pivot(df, index='period', columns='title',\n",
    "                             values='ratio').reset_index()\n",
    "            pivot.columns.name = None\n",
    "            pivot = pivot.rename(columns={\"period\": \"날짜\"})\n",
    "            return pivot\n",
    "\n",
    "        else:\n",
    "            return res\n",
    "\n",
    "    def datalab_shopping_categories(self, **kwargs):\n",
    "        \"\"\"\n",
    "        쇼핑인사이트 분야별 트렌드 조회\n",
    "        - API 레퍼런스: https://developers.naver.com/docs/serviceapi/datalab/shopping/shopping.md\n",
    "        \"\"\"\n",
    "        url = \"https://openapi.naver.com/v1/datalab/shopping/categories\"\n",
    "        data = {}\n",
    "        for k, v in kwargs.items():\n",
    "            data[k] = v\n",
    "        data = json.dumps(data, ensure_ascii=False).encode(\"utf-8\")\n",
    "        res = requests.post(url, data=data, headers=self.headers)\n",
    "        if res.status_code == 200:\n",
    "            data = res.json()['results']\n",
    "            num = len(data)\n",
    "            df = pd.DataFrame()\n",
    "            for i in range(num):\n",
    "                sub = pd.DataFrame(data[i]['data'])\n",
    "                sub['title'] = data[i]['title']\n",
    "                sub = sub[['title', 'period', 'ratio']]\n",
    "                df = pd.concat([df, sub], axis=0, ignore_index=True)\n",
    "            pivot = pd.pivot(df, index='period', columns='title',\n",
    "                             values='ratio').reset_index()\n",
    "            pivot.columns.name = None\n",
    "            pivot = pivot.rename(columns={\"period\": \"날짜\"})\n",
    "            return pivot\n",
    "\n",
    "        else:\n",
    "            return res\n",
    "\n",
    "    def datalab_shopping_category_device(self, **kwargs):\n",
    "        \"\"\"\n",
    "        쇼핑인사이트 분야 내 기기별 트렌드 조회\n",
    "        - API 레퍼런스: https://developers.naver.com/docs/serviceapi/datalab/shopping/shopping.md\n",
    "        \"\"\"\n",
    "        url = \"https://openapi.naver.com/v1/datalab/shopping/category/device\"\n",
    "        data = {}\n",
    "        for k, v in kwargs.items():\n",
    "            data[k] = v\n",
    "        data = json.dumps(data, ensure_ascii=False).encode(\"utf-8\")\n",
    "        res = requests.post(url, data=data, headers=self.headers)\n",
    "        if res.status_code == 200:\n",
    "            data = res.json()['results']\n",
    "            df = pd.DataFrame(data[0]['data'])\n",
    "            df = df[['group', 'period', 'ratio']]\n",
    "            pivot = pd.pivot(df, index='period', columns=[\n",
    "                             'group'], values='ratio').reset_index()\n",
    "            pivot.columns.name = None\n",
    "            pivot = pivot.rename(columns={\"period\": \"날짜\"})\n",
    "            return pivot\n",
    "\n",
    "        else:\n",
    "            return res\n",
    "\n",
    "    def datalab_shopping_category_gender(self, **kwargs):\n",
    "        \"\"\"\n",
    "        쇼핑인사이트 분야 내 성별 트렌드 조회\n",
    "        - API 레퍼런스: https://developers.naver.com/docs/serviceapi/datalab/shopping/shopping.md\n",
    "        \"\"\"\n",
    "        url = \"https://openapi.naver.com/v1/datalab/shopping/category/gender\"\n",
    "        data = {}\n",
    "        for k, v in kwargs.items():\n",
    "            data[k] = v\n",
    "        data = json.dumps(data, ensure_ascii=False).encode(\"utf-8\")\n",
    "        res = requests.post(url, data=data, headers=self.headers)\n",
    "        if res.status_code == 200:\n",
    "            data = res.json()['results']\n",
    "            df = pd.DataFrame(data[0]['data'])\n",
    "            df = df[['group', 'period', 'ratio']]\n",
    "            pivot = pd.pivot(df, index='period', columns=[\n",
    "                             'group'], values='ratio').reset_index()\n",
    "            pivot.columns.name = None\n",
    "            pivot = pivot.rename(columns={\"period\": \"날짜\"})\n",
    "            return pivot\n",
    "\n",
    "        else:\n",
    "            return res\n",
    "\n",
    "    def datalab_shopping_category_age(self, **kwargs):\n",
    "        \"\"\"\n",
    "        쇼핑인사이트 분야 내 연령별 트렌드 조회\n",
    "        - API 레퍼런스: https://developers.naver.com/docs/serviceapi/datalab/shopping/shopping.md\n",
    "        \"\"\"\n",
    "        url = \"https://openapi.naver.com/v1/datalab/shopping/category/age\"\n",
    "        data = {}\n",
    "        for k, v in kwargs.items():\n",
    "            data[k] = v\n",
    "        data = json.dumps(data, ensure_ascii=False).encode(\"utf-8\")\n",
    "        res = requests.post(url, data=data, headers=self.headers)\n",
    "        if res.status_code == 200:\n",
    "            data = res.json()['results']\n",
    "            df = pd.DataFrame(data[0]['data'])\n",
    "            df = df[['group', 'period', 'ratio']]\n",
    "            pivot = pd.pivot(df, index='period', columns=[\n",
    "                             'group'], values='ratio').reset_index()\n",
    "            pivot.columns.name = None\n",
    "            pivot = pivot.rename(columns={\"period\": \"날짜\"})\n",
    "            return pivot\n",
    "\n",
    "        else:\n",
    "            return res\n",
    "\n",
    "    def datalab_shopping_category_keywords(self, **kwargs):\n",
    "        \"\"\"\n",
    "        쇼핑인사이트 키워드별 트렌드 조회\n",
    "        - API 레퍼런스: https://developers.naver.com/docs/serviceapi/datalab/shopping/shopping.md\n",
    "        \"\"\"\n",
    "        url = \"https://openapi.naver.com/v1/datalab/shopping/category/keywords\"\n",
    "        data = {}\n",
    "        for k, v in kwargs.items():\n",
    "            data[k] = v\n",
    "        data = json.dumps(data, ensure_ascii=False).encode(\"utf-8\")\n",
    "        res = requests.post(url, data=data, headers=self.headers)\n",
    "        if res.status_code == 200:\n",
    "            data = res.json()['results']\n",
    "            num = len(data)\n",
    "            df = pd.DataFrame()\n",
    "            for i in range(num):\n",
    "                sub = pd.DataFrame(data[i]['data'])\n",
    "                sub['title'] = data[i]['title']\n",
    "                sub = sub[['title', 'period', 'ratio']]\n",
    "                df = pd.concat([df, sub], axis=0, ignore_index=True)\n",
    "            pivot = pd.pivot(df, index='period', columns='title',\n",
    "                             values='ratio').reset_index()\n",
    "            pivot.columns.name = None\n",
    "            pivot = pivot.rename(columns={\"period\": \"날짜\"})\n",
    "            return pivot\n",
    "\n",
    "        else:\n",
    "            return res\n",
    "\n",
    "    def datalab_shopping_category_keyword_device(self, **kwargs):\n",
    "        \"\"\"\n",
    "        쇼핑인사이트 키워드 기기별 트렌드 조회\n",
    "        - API 레퍼런스: https://developers.naver.com/docs/serviceapi/datalab/shopping/shopping.md\n",
    "        \"\"\"\n",
    "        url = \"https://openapi.naver.com/v1/datalab/shopping/category/keyword/device\"\n",
    "        data = {}\n",
    "        for k, v in kwargs.items():\n",
    "            data[k] = v\n",
    "        data = json.dumps(data, ensure_ascii=False).encode(\"utf-8\")\n",
    "        res = requests.post(url, data=data, headers=self.headers)\n",
    "\n",
    "        if res.status_code == 200:\n",
    "            data = res.json()['results']\n",
    "            df = pd.DataFrame(data[0]['data'])\n",
    "            df = df[['group', 'period', 'ratio']]\n",
    "            pivot = pd.pivot(df, index='period', columns=[\n",
    "                             'group'], values='ratio').reset_index()\n",
    "            pivot.columns.name = None\n",
    "            pivot = pivot.rename(columns={\"period\": \"날짜\"})\n",
    "            return pivot\n",
    "\n",
    "        else:\n",
    "            return res\n",
    "\n",
    "    def datalab_shopping_category_keyword_gender(self, **kwargs):\n",
    "        \"\"\"\n",
    "        쇼핑인사이트 키워드 성별 트렌드 조회\n",
    "        - API 레퍼런스: https://developers.naver.com/docs/serviceapi/datalab/shopping/shopping.md\n",
    "        \"\"\"\n",
    "        url = \"https://openapi.naver.com/v1/datalab/shopping/category/keyword/gender\"\n",
    "        data = {}\n",
    "        for k, v in kwargs.items():\n",
    "            data[k] = v\n",
    "        data = json.dumps(data, ensure_ascii=False).encode(\"utf-8\")\n",
    "        res = requests.post(url, data=data, headers=self.headers)\n",
    "\n",
    "        if res.status_code == 200:\n",
    "            data = res.json()['results']\n",
    "            df = pd.DataFrame(data[0]['data'])\n",
    "            df = df[['group', 'period', 'ratio']]\n",
    "            pivot = pd.pivot(df, index='period', columns=[\n",
    "                             'group'], values='ratio').reset_index()\n",
    "            pivot.columns.name = None\n",
    "            pivot = pivot.rename(columns={\"period\": \"날짜\"})\n",
    "            return pivot\n",
    "\n",
    "        else:\n",
    "            return res\n",
    "\n",
    "    def datalab_shopping_category_keyword_age(self, **kwargs):\n",
    "        \"\"\"\n",
    "        쇼핑인사이트 키워드 연령별 트렌드 조회\n",
    "        - API 레퍼런스: https://developers.naver.com/docs/serviceapi/datalab/shopping/shopping.md\n",
    "        \"\"\"\n",
    "        url = \"https://openapi.naver.com/v1/datalab/shopping/category/keyword/age\"\n",
    "        data = {}\n",
    "        for k, v in kwargs.items():\n",
    "            data[k] = v\n",
    "        data = json.dumps(data, ensure_ascii=False).encode(\"utf-8\")\n",
    "        res = requests.post(url, data=data, headers=self.headers)\n",
    "\n",
    "        if res.status_code == 200:\n",
    "            data = res.json()['results']\n",
    "            df = pd.DataFrame(data[0]['data'])\n",
    "            df = df[['group', 'period', 'ratio']]\n",
    "            pivot = pd.pivot(df, index='period', columns=[\n",
    "                             'group'], values='ratio').reset_index()\n",
    "            pivot.columns.name = None\n",
    "            pivot = pivot.rename(columns={\"period\": \"날짜\"})\n",
    "            return pivot\n",
    "\n",
    "        else:\n",
    "            return res\n",
    "\n",
    "    def util_shorturl(self, url):\n",
    "        \"\"\"\n",
    "        단축 URL 요청(JSON)\n",
    "        - API 레퍼런스: https://developers.naver.com/docs/utils/shortenurl/\n",
    "        \"\"\"\n",
    "        req_url = f\"https://openapi.naver.com/v1/util/shorturl?url={url}\"\n",
    "        res = requests.get(req_url, headers=self.headers)\n",
    "        if res.status_code == 200:\n",
    "            return res.json()\n",
    "        else:\n",
    "            return res"
   ]
  },
  {
   "cell_type": "markdown",
   "metadata": {},
   "source": [
    "### 통합 검색어 트렌드 API"
   ]
  },
  {
   "cell_type": "code",
   "execution_count": null,
   "metadata": {
    "ExecuteTime": {
     "end_time": "2022-08-31T07:27:57.506805Z",
     "start_time": "2022-08-31T07:27:57.490069Z"
    }
   },
   "outputs": [],
   "source": [
    "# 네이버 API 인스턴스\n",
    "naver = Naver(search_id, search_pw)\n",
    "\n",
    "# 파라미터\n",
    "startDate = \"2022-01-01\"\n",
    "endDate = \"2022-08-30\"\n",
    "timeUnit = \"date\"\n",
    "keywordGroups = [\n",
    "    {\n",
    "        \"groupName\": \"미국\",\n",
    "        \"keywords\": [\"연준\", \"FRB\", \"FED\", \"FOMC\"]\n",
    "    },\n",
    "\n",
    "    {\n",
    "        \"groupName\": \"한국\",\n",
    "        \"keywords\": [\"한국은행\", \"금융통화위원회\"]\n",
    "    }\n",
    "]\n",
    "\n",
    "\n",
    "# 요청\n",
    "df = naver.datalab_search(startDate=startDate,\n",
    "                          endDate=endDate,\n",
    "                          timeUnit=timeUnit,\n",
    "                          keywordGroups=keywordGroups)\n",
    "df"
   ]
  },
  {
   "cell_type": "markdown",
   "metadata": {},
   "source": [
    "### Shopping Insight API 1"
   ]
  },
  {
   "cell_type": "code",
   "execution_count": null,
   "metadata": {
    "ExecuteTime": {
     "end_time": "2022-09-01T02:53:28.532934Z",
     "start_time": "2022-09-01T02:53:28.267772Z"
    }
   },
   "outputs": [],
   "source": [
    "# 네이버 API 인스턴스\n",
    "naver = Naver(shopping_id, shopping_pw)\n",
    "\n",
    "# 파라미터\n",
    "startDate = \"2022-01-01\"\n",
    "endDate = \"2022-08-30\"\n",
    "timeUnit = \"date\"\n",
    "category = [\n",
    "    {\n",
    "        \"name\": \"카테고리1\",\n",
    "        \"param\": [\"50000000\"],\n",
    "    },\n",
    "    {\n",
    "        \"name\": \"카테고리2\",\n",
    "        \"param\": [\"50000002\"],\n",
    "    },\n",
    "]\n",
    "\n",
    "# 요청\n",
    "df = naver.datalab_shopping_categories(startDate=startDate,\n",
    "                                       endDate=endDate,\n",
    "                                       timeUnit=timeUnit,\n",
    "                                       category=category)\n",
    "df"
   ]
  },
  {
   "cell_type": "markdown",
   "metadata": {},
   "source": [
    "### Shopping Insight API 2"
   ]
  },
  {
   "cell_type": "code",
   "execution_count": null,
   "metadata": {
    "ExecuteTime": {
     "end_time": "2022-09-01T02:53:41.475869Z",
     "start_time": "2022-09-01T02:53:41.294793Z"
    }
   },
   "outputs": [],
   "source": [
    "# 네이버 API 인스턴스\n",
    "naver = Naver(shopping_id, shopping_pw)\n",
    "\n",
    "# 파라미터\n",
    "startDate = \"2022-01-01\"\n",
    "endDate = \"2022-08-30\"\n",
    "timeUnit = \"date\"\n",
    "category = \"50000002\"\n",
    "\n",
    "# 요청\n",
    "df = naver.datalab_shopping_category_device(startDate=startDate,\n",
    "                                            endDate=endDate,\n",
    "                                            timeUnit=timeUnit,\n",
    "                                            category=category)\n",
    "df"
   ]
  },
  {
   "cell_type": "markdown",
   "metadata": {},
   "source": [
    "### Shopping Insight API 3"
   ]
  },
  {
   "cell_type": "code",
   "execution_count": null,
   "metadata": {
    "ExecuteTime": {
     "end_time": "2022-09-01T02:56:01.448533Z",
     "start_time": "2022-09-01T02:56:01.289298Z"
    }
   },
   "outputs": [],
   "source": [
    "# 네이버 API 인스턴스\n",
    "naver = Naver(shopping_id, shopping_pw)\n",
    "\n",
    "# 파라미터\n",
    "startDate = \"2022-01-01\"\n",
    "endDate = \"2022-08-30\"\n",
    "timeUnit = \"date\"\n",
    "category = \"50000002\"\n",
    "\n",
    "# 요청\n",
    "df = naver.datalab_shopping_category_gender(startDate=startDate,\n",
    "                                            endDate=endDate,\n",
    "                                            timeUnit=timeUnit,\n",
    "                                            category=category)\n",
    "df"
   ]
  },
  {
   "cell_type": "markdown",
   "metadata": {},
   "source": [
    "### Shopping Insight API 4"
   ]
  },
  {
   "cell_type": "code",
   "execution_count": null,
   "metadata": {
    "ExecuteTime": {
     "end_time": "2022-09-01T02:57:33.835801Z",
     "start_time": "2022-09-01T02:57:33.501862Z"
    }
   },
   "outputs": [],
   "source": [
    "# 네이버 API 인스턴스\n",
    "naver = Naver(shopping_id, shopping_pw)\n",
    "\n",
    "# 파라미터\n",
    "startDate = \"2022-01-01\"\n",
    "endDate = \"2022-08-30\"\n",
    "timeUnit = \"date\"\n",
    "category = \"50000002\"\n",
    "\n",
    "# 요청\n",
    "df = naver.datalab_shopping_category_age(startDate=startDate,\n",
    "                                         endDate=endDate,\n",
    "                                         timeUnit=timeUnit,\n",
    "                                         category=category)\n",
    "df"
   ]
  },
  {
   "cell_type": "markdown",
   "metadata": {},
   "source": [
    "### Shopping Insight API 5"
   ]
  },
  {
   "cell_type": "code",
   "execution_count": null,
   "metadata": {
    "ExecuteTime": {
     "end_time": "2022-09-01T03:03:14.606150Z",
     "start_time": "2022-09-01T03:03:14.410573Z"
    },
    "scrolled": false
   },
   "outputs": [],
   "source": [
    "# 네이버 API 인스턴스\n",
    "naver = Naver(shopping_id, shopping_pw)\n",
    "\n",
    "# 파라미터\n",
    "startDate = \"2022-01-01\"\n",
    "endDate = \"2022-08-30\"\n",
    "timeUnit = \"date\"\n",
    "category = \"50000000\"\n",
    "keyword = [\n",
    "    {\n",
    "        \"name\": \"키워드1\",\n",
    "        \"param\": [\"정장\"],\n",
    "    },\n",
    "    {\n",
    "        \"name\": \"키워드2\",\n",
    "        \"param\": [\"비즈니스 캐주얼\"],\n",
    "    },\n",
    "]\n",
    "\n",
    "# 요청\n",
    "df = naver.datalab_shopping_category_keywords(startDate=startDate,\n",
    "                                              endDate=endDate,\n",
    "                                              timeUnit=timeUnit,\n",
    "                                              category=category,\n",
    "                                              keyword=keyword)\n",
    "df"
   ]
  },
  {
   "cell_type": "markdown",
   "metadata": {},
   "source": [
    "### Shopping Insight API 6"
   ]
  },
  {
   "cell_type": "code",
   "execution_count": null,
   "metadata": {
    "ExecuteTime": {
     "end_time": "2022-09-01T03:09:14.007177Z",
     "start_time": "2022-09-01T03:09:13.878766Z"
    }
   },
   "outputs": [],
   "source": [
    "# 네이버 API 인스턴스\n",
    "naver = Naver(shopping_id, shopping_pw)\n",
    "\n",
    "# 파라미터\n",
    "startDate = \"2022-01-01\"\n",
    "endDate = \"2022-08-30\"\n",
    "timeUnit = \"date\"\n",
    "category = \"50000000\"\n",
    "keyword = \"정장\"\n",
    "\n",
    "# 요청\n",
    "df = naver.datalab_shopping_category_keyword_device(startDate=startDate,\n",
    "                                                    endDate=endDate,\n",
    "                                                    timeUnit=timeUnit,\n",
    "                                                    category=category,\n",
    "                                                    keyword=keyword)\n",
    "df"
   ]
  },
  {
   "cell_type": "markdown",
   "metadata": {},
   "source": [
    "### Shopping Insight API 7"
   ]
  },
  {
   "cell_type": "code",
   "execution_count": null,
   "metadata": {
    "ExecuteTime": {
     "end_time": "2022-09-01T04:08:36.753685Z",
     "start_time": "2022-09-01T04:08:36.379597Z"
    },
    "hide_input": false
   },
   "outputs": [],
   "source": [
    "# 네이버 API 인스턴스\n",
    "naver = Naver(shopping_id, shopping_pw)\n",
    "\n",
    "# 파라미터\n",
    "startDate = \"2022-01-01\"\n",
    "endDate = \"2022-08-30\"\n",
    "timeUnit = \"date\"\n",
    "category = \"50000000\"\n",
    "keyword = \"정장\"\n",
    "\n",
    "# 요청\n",
    "df = naver.datalab_shopping_category_keyword_gender(startDate=startDate,\n",
    "                                                    endDate=endDate,\n",
    "                                                    timeUnit=timeUnit,\n",
    "                                                    category=category,\n",
    "                                                    keyword=keyword)\n",
    "df"
   ]
  },
  {
   "cell_type": "markdown",
   "metadata": {},
   "source": [
    "### Shopping Insight API 8"
   ]
  },
  {
   "cell_type": "code",
   "execution_count": null,
   "metadata": {
    "ExecuteTime": {
     "end_time": "2022-09-01T04:08:36.753685Z",
     "start_time": "2022-09-01T04:08:36.379597Z"
    },
    "hide_input": false
   },
   "outputs": [],
   "source": [
    "# 네이버 API 인스턴스\n",
    "naver = Naver(shopping_id, shopping_pw)\n",
    "\n",
    "# 파라미터\n",
    "startDate = \"2022-01-01\"\n",
    "endDate = \"2022-08-30\"\n",
    "timeUnit = \"date\"\n",
    "category = \"50000000\"\n",
    "keyword = \"정장\"\n",
    "\n",
    "# 요청\n",
    "df = naver.datalab_shopping_category_keyword_age(startDate=startDate,\n",
    "                                                 endDate=endDate,\n",
    "                                                 timeUnit=timeUnit,\n",
    "                                                 category=category,\n",
    "                                                 keyword=keyword)\n",
    "df"
   ]
  },
  {
   "cell_type": "markdown",
   "metadata": {},
   "source": [
    "### 단축 URL API"
   ]
  },
  {
   "cell_type": "code",
   "execution_count": null,
   "metadata": {
    "ExecuteTime": {
     "end_time": "2022-08-31T06:17:57.938322Z",
     "start_time": "2022-08-31T06:17:57.868313Z"
    }
   },
   "outputs": [],
   "source": [
    "# 네이버 API 인스턴스\n",
    "naver = Naver(shorturl_id, shorturl_pw)\n",
    "\n",
    "# 파라미터\n",
    "url = \"https://wooiljeong.github.io\"\n",
    "\n",
    "# 단축 URL API 호출\n",
    "res = naver.util_shorturl(url)\n",
    "res"
   ]
  },
  {
   "cell_type": "markdown",
   "metadata": {},
   "source": [
    "## NAVER CLOUD PLATFORM"
   ]
  },
  {
   "cell_type": "code",
   "execution_count": null,
   "metadata": {
    "ExecuteTime": {
     "end_time": "2022-08-31T06:18:15.936612Z",
     "start_time": "2022-08-31T06:18:15.926610Z"
    }
   },
   "outputs": [],
   "source": [
    "class NaverCloudPlatform:\n",
    "    \"\"\"\n",
    "    네이버 클라우드 플랫폼 API 클래스\n",
    "    \"\"\"\n",
    "    def __init__(self, client_id, client_secret):\n",
    "        \"\"\"\n",
    "        API 인증 정보 초기화\n",
    "        \"\"\"\n",
    "        self.headers = {\n",
    "            \"X-NCP-APIGW-API-KEY-ID\": client_id,\n",
    "            \"X-NCP-APIGW-API-KEY\": client_secret,\n",
    "        }\n",
    "        \n",
    "    def geocoding(self, query):\n",
    "        \"\"\"\n",
    "        지오코딩 API\n",
    "        - API 레퍼런스: https://api.ncloud-docs.com/docs/ai-naver-mapsgeocoding\n",
    "        \"\"\"\n",
    "        url = f\"https://naveropenapi.apigw.ntruss.com/map-geocode/v2/geocode?query={query}\"\n",
    "        res = requests.get(url, headers=self.headers)\n",
    "        if res.status_code == 200:\n",
    "            return res.json()\n",
    "        else:\n",
    "            return res\n",
    "\n",
    "    def reverse_geocoding(self, lon, lat):\n",
    "        \"\"\"\n",
    "        리버스 지오코딩 API\n",
    "        - API 레퍼런스: https://api.ncloud-docs.com/docs/ai-naver-mapsreversegeocoding\n",
    "        \"\"\"\n",
    "        coords = f\"{lon},{lat}\"\n",
    "        url = f\"https://naveropenapi.apigw.ntruss.com/map-reversegeocode/v2/gc?coords={coords}&output=json&orders=addr\"\n",
    "        res = requests.get(url, headers=self.headers)\n",
    "        if res.status_code == 200:\n",
    "            return res.json()\n",
    "        else:\n",
    "            return res\n",
    "        \n",
    "    def directions5(self, **kwargs):\n",
    "        \"\"\"\n",
    "        Directions5 API\n",
    "        - API 레퍼런스: https://api.ncloud-docs.com/docs/ai-naver-mapsdirections\n",
    "        \"\"\"\n",
    "        url = f\"https://naveropenapi.apigw.ntruss.com/map-direction/v1/driving?\"\n",
    "        for k, v in kwargs.items():\n",
    "            url += f\"{k}={v}&\"\n",
    "        res = requests.get(url, headers=self.headers)\n",
    "        if res.status_code == 200:\n",
    "            return res.json()\n",
    "        else:\n",
    "            return res\n",
    "\n",
    "    def directions15(self, **kwargs):\n",
    "        \"\"\"\n",
    "        Directions15 API\n",
    "        - API 레퍼런스: https://api.ncloud-docs.com/docs/ai-naver-mapsdirections15\n",
    "        \"\"\"\n",
    "        url = f\"https://naveropenapi.apigw.ntruss.com/map-direction-15/v1/driving?\"\n",
    "        for k, v in kwargs.items():\n",
    "            url += f\"{k}={v}&\"\n",
    "        res = requests.get(url, headers=self.headers)\n",
    "        if res.status_code == 200:\n",
    "            return res.json()\n",
    "        else:\n",
    "            return res"
   ]
  },
  {
   "cell_type": "markdown",
   "metadata": {},
   "source": [
    "### Directions5"
   ]
  },
  {
   "cell_type": "code",
   "execution_count": null,
   "metadata": {
    "ExecuteTime": {
     "end_time": "2022-08-31T06:46:57.815986Z",
     "start_time": "2022-08-31T06:46:57.587663Z"
    },
    "scrolled": true
   },
   "outputs": [],
   "source": [
    "# 클라우드 API 인스턴스\n",
    "ncp = NaverCloudPlatform(cloud_id, cloud_pw)\n",
    "\n",
    "# 파라미터\n",
    "start = \"127.1115061,37.3864539\"\n",
    "goal = \"127.01953476,37.5160802\"\n",
    "\n",
    "# 지오코딩 요청\n",
    "res = ncp.directions5(start=start, goal=goal)\n",
    "res"
   ]
  },
  {
   "cell_type": "markdown",
   "metadata": {},
   "source": [
    "### Directions15"
   ]
  },
  {
   "cell_type": "code",
   "execution_count": null,
   "metadata": {
    "ExecuteTime": {
     "end_time": "2022-08-31T06:15:24.731954Z",
     "start_time": "2022-08-31T06:15:24.523579Z"
    },
    "scrolled": true
   },
   "outputs": [],
   "source": [
    "# 클라우드 API 인스턴스\n",
    "ncp = NaverCloudPlatform(cloud_id, cloud_pw)\n",
    "\n",
    "# 파라미터\n",
    "start = \"127.1115061,37.3864539\"\n",
    "goal = \"127.01953476,37.5160802\"\n",
    "\n",
    "# 지오코딩 요청\n",
    "res = ncp.directions15(start=start, goal=goal)\n",
    "res"
   ]
  },
  {
   "cell_type": "markdown",
   "metadata": {},
   "source": [
    "### Geocoding"
   ]
  },
  {
   "cell_type": "code",
   "execution_count": null,
   "metadata": {
    "ExecuteTime": {
     "end_time": "2022-09-01T02:36:12.952064Z",
     "start_time": "2022-09-01T02:36:12.848042Z"
    },
    "scrolled": true
   },
   "outputs": [],
   "source": [
    "# 클라우드 API 인스턴스\n",
    "ncp = NaverCloudPlatform(cloud_id, cloud_pw)\n",
    "\n",
    "# 주소\n",
    "query = \"해밀동 산8\"\n",
    "\n",
    "# 지오코딩 요청\n",
    "res = ncp.geocoding(query)\n",
    "res"
   ]
  },
  {
   "cell_type": "markdown",
   "metadata": {},
   "source": [
    "### Reverse Geocoding"
   ]
  },
  {
   "cell_type": "code",
   "execution_count": null,
   "metadata": {
    "ExecuteTime": {
     "end_time": "2022-08-31T07:36:54.044174Z",
     "start_time": "2022-08-31T07:36:53.997557Z"
    },
    "scrolled": false
   },
   "outputs": [],
   "source": [
    "# 클라우드 API 인스턴스\n",
    "ncp = NaverCloudPlatform(cloud_id, cloud_pw)\n",
    "\n",
    "# 경도, 위도\n",
    "lon, lat = 127.228954, 37.376474\n",
    "\n",
    "# 지오코딩 요청\n",
    "res = ncp.reverse_geocoding(lon, lat)\n",
    "res"
   ]
  },
  {
   "cell_type": "code",
   "execution_count": null,
   "metadata": {
    "ExecuteTime": {
     "end_time": "2022-08-31T07:37:36.607067Z",
     "start_time": "2022-08-31T07:37:36.592066Z"
    }
   },
   "outputs": [],
   "source": [
    "_bdongCode = res['results'][0]['code']['id']\n",
    "_type = res['results'][0]['land']['type']\n",
    "_bonBeon = res['results'][0]['land']['number1'].zfill(4)\n",
    "_buBeon = res['results'][0]['land']['number2'].zfill(4)\n",
    "pnuCode = f\"{_bdongCode}{_type}{_bonBeon}{_buBeon}\"\n",
    "pnuCode"
   ]
  }
 ],
 "metadata": {
  "hide_input": false,
  "interpreter": {
   "hash": "6bf4aecc11a847aac6a9e6e2b9c291ef4290b1eb318ab8e31001f30b16d468fc"
  },
  "kernelspec": {
   "display_name": "Python 3",
   "language": "python",
   "name": "python3"
  },
  "language_info": {
   "codemirror_mode": {
    "name": "ipython",
    "version": 3
   },
   "file_extension": ".py",
   "mimetype": "text/x-python",
   "name": "python",
   "nbconvert_exporter": "python",
   "pygments_lexer": "ipython3",
   "version": "3.8.5"
  },
  "toc": {
   "base_numbering": 1,
   "nav_menu": {},
   "number_sections": true,
   "sideBar": true,
   "skip_h1_title": false,
   "title_cell": "Table of Contents",
   "title_sidebar": "Contents",
   "toc_cell": false,
   "toc_position": {},
   "toc_section_display": true,
   "toc_window_display": true
  },
  "varInspector": {
   "cols": {
    "lenName": 16,
    "lenType": 16,
    "lenVar": 40
   },
   "kernels_config": {
    "python": {
     "delete_cmd_postfix": "",
     "delete_cmd_prefix": "del ",
     "library": "var_list.py",
     "varRefreshCmd": "print(var_dic_list())"
    },
    "r": {
     "delete_cmd_postfix": ") ",
     "delete_cmd_prefix": "rm(",
     "library": "var_list.r",
     "varRefreshCmd": "cat(var_dic_list()) "
    }
   },
   "types_to_exclude": [
    "module",
    "function",
    "builtin_function_or_method",
    "instance",
    "_Feature"
   ],
   "window_display": false
  }
 },
 "nbformat": 4,
 "nbformat_minor": 2
}
