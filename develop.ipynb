{
 "cells": [
  {
   "cell_type": "markdown",
   "metadata": {},
   "source": [
    "## API 구분\n",
    "\n",
    "\n",
    "- [네이버](https://developers.naver.com/docs/common/openapiguide/)\n",
    "    - 통합 검색어 트렌드 API\n",
    "    - 쇼핑인사이트 API\n",
    "\n",
    "- [클라우드 API](https://api.ncloud-docs.com/docs/api-overview)\n",
    "    - Geocoding\n",
    "    - Reverse Geocoding\n",
    "    - Static Map"
   ]
  },
  {
   "cell_type": "code",
   "execution_count": null,
   "metadata": {
    "ExecuteTime": {
     "end_time": "2022-09-02T02:52:58.020950Z",
     "start_time": "2022-09-02T02:52:58.005949Z"
    }
   },
   "outputs": [],
   "source": [
    "from config import config\n",
    "\n",
    "# 네이버 파파고 API\n",
    "naver_id = config['naver']['client_id']\n",
    "naver_pw = config['naver']['client_secret']\n",
    "\n",
    "# 네이버 클라우드 플랫폼 API\n",
    "cloud_id = config['cloud']['client_id']\n",
    "cloud_pw = config['cloud']['client_secret']"
   ]
  },
  {
   "cell_type": "code",
   "execution_count": null,
   "metadata": {
    "ExecuteTime": {
     "end_time": "2022-09-02T02:52:58.536904Z",
     "start_time": "2022-09-02T02:52:58.172775Z"
    }
   },
   "outputs": [],
   "source": [
    "import json\n",
    "import datetime\n",
    "import requests\n",
    "import pandas as pd"
   ]
  },
  {
   "cell_type": "markdown",
   "metadata": {},
   "source": [
    "## MAP"
   ]
  },
  {
   "cell_type": "code",
   "execution_count": null,
   "metadata": {
    "ExecuteTime": {
     "end_time": "2022-09-02T02:52:59.458511Z",
     "start_time": "2022-09-02T02:52:59.440513Z"
    }
   },
   "outputs": [],
   "source": [
    "class Map:\n",
    "    \"\"\"\n",
    "    네이버 지도 API 클래스\n",
    "    \"\"\"\n",
    "    def _init_(self):\n",
    "        pass\n",
    "\n",
    "    def transit_directions_point_to_point(self, **kwargs):\n",
    "        \"\"\"\n",
    "        네이버 지도 길찾기 대중교통 API\n",
    "        \"\"\"\n",
    "        url = \"https://map.naver.com/v5/api/transit/directions/point-to-point?\"\n",
    "        params = {\n",
    "            \"crs\": \"EPSG:4326\",\n",
    "            \"mode\": \"TIME\",\n",
    "            \"lang\": \"ko\",\n",
    "            \"includeDetailOperation\": \"true\",\n",
    "        }\n",
    "        kwargs.update(params)\n",
    "        for k, v in kwargs.items():\n",
    "            url += f\"{k}={v}&\"\n",
    "        res = requests.get(url)\n",
    "        if res.status_code == 200:\n",
    "            return res.json()\n",
    "        else:\n",
    "            return res"
   ]
  },
  {
   "cell_type": "markdown",
   "metadata": {},
   "source": [
    "### 지도 길찾기 대중교통"
   ]
  },
  {
   "cell_type": "code",
   "execution_count": null,
   "metadata": {
    "ExecuteTime": {
     "end_time": "2022-09-02T02:53:02.768007Z",
     "start_time": "2022-09-02T02:53:01.822598Z"
    },
    "scrolled": true
   },
   "outputs": [],
   "source": [
    "# 네이버 지도 API 인스턴스\n",
    "maps = Map()\n",
    "\n",
    "# 파라미터\n",
    "sx, sy = 127.019534, 37.51608\n",
    "ex, ey = 127.111203, 37.39475\n",
    "start = f\"{sx},{sy}\"\n",
    "goal = f\"{ex},{ey}\"\n",
    "today = datetime.date.today()\n",
    "departureTime = (today + datetime.timedelta(days=-today.weekday(), weeks=1)).strftime(\"%Y-%m-%dT08:00:00\")\n",
    "\n",
    "# API 호출\n",
    "data = maps.transit_directions_point_to_point(start=start,\n",
    "                                         goal=goal,\n",
    "                                         departureTime=departureTime)\n",
    "data"
   ]
  },
  {
   "cell_type": "markdown",
   "metadata": {},
   "source": [
    "## NAVER"
   ]
  },
  {
   "cell_type": "code",
   "execution_count": null,
   "metadata": {
    "ExecuteTime": {
     "end_time": "2022-09-02T04:30:23.857322Z",
     "start_time": "2022-09-02T04:30:23.826292Z"
    }
   },
   "outputs": [],
   "source": [
    "class Naver:\n",
    "    \"\"\"\n",
    "    네이버 OPEN API 클래스\n",
    "    \"\"\"\n",
    "\n",
    "    def __init__(self, client_id, client_secret):\n",
    "        \"\"\"\n",
    "        API 인증 정보 초기화\n",
    "        \"\"\"\n",
    "        self.headers = {\n",
    "            \"X-Naver-Client-Id\": client_id,\n",
    "            \"X-Naver-Client-Secret\": client_secret,\n",
    "            \"Content-Type\": \"application/json\",\n",
    "        }\n",
    "\n",
    "    def datalab_search(self, **kwargs):\n",
    "        \"\"\"\n",
    "        네이버 통합 검색어 트렌드 조회\n",
    "        - API 레퍼런스: https://developers.naver.com/docs/serviceapi/datalab/search/search.md\n",
    "        \"\"\"\n",
    "        url = \"https://openapi.naver.com/v1/datalab/search\"\n",
    "        data = {}\n",
    "        for k, v in kwargs.items():\n",
    "            data[k] = v\n",
    "        data = json.dumps(data, ensure_ascii=False).encode(\"utf-8\")\n",
    "        res = requests.post(url, data=data, headers=self.headers)\n",
    "\n",
    "        if res.status_code == 200:\n",
    "            data = res.json()['results']\n",
    "            num = len(data)\n",
    "            df = pd.DataFrame()\n",
    "            for i in range(num):\n",
    "                sub = pd.DataFrame(data[i]['data'])\n",
    "                sub['title'] = data[i]['title']\n",
    "                sub = sub[['title', 'period', 'ratio']]\n",
    "                df = pd.concat([df, sub], axis=0, ignore_index=True)\n",
    "            pivot = pd.pivot(df, index='period', columns='title',\n",
    "                             values='ratio').reset_index()\n",
    "            pivot.columns.name = None\n",
    "            pivot = pivot.rename(columns={\"period\": \"날짜\"})\n",
    "            return pivot\n",
    "\n",
    "        else:\n",
    "            return res\n",
    "\n",
    "    def datalab_shopping_categories(self, **kwargs):\n",
    "        \"\"\"\n",
    "        쇼핑인사이트 분야별 트렌드 조회\n",
    "        - API 레퍼런스: https://developers.naver.com/docs/serviceapi/datalab/shopping/shopping.md\n",
    "        \"\"\"\n",
    "        url = \"https://openapi.naver.com/v1/datalab/shopping/categories\"\n",
    "        data = {}\n",
    "        for k, v in kwargs.items():\n",
    "            data[k] = v\n",
    "        data = json.dumps(data, ensure_ascii=False).encode(\"utf-8\")\n",
    "        res = requests.post(url, data=data, headers=self.headers)\n",
    "        if res.status_code == 200:\n",
    "            data = res.json()['results']\n",
    "            num = len(data)\n",
    "            df = pd.DataFrame()\n",
    "            for i in range(num):\n",
    "                sub = pd.DataFrame(data[i]['data'])\n",
    "                sub['title'] = data[i]['title']\n",
    "                sub = sub[['title', 'period', 'ratio']]\n",
    "                df = pd.concat([df, sub], axis=0, ignore_index=True)\n",
    "            pivot = pd.pivot(df, index='period', columns='title',\n",
    "                             values='ratio').reset_index()\n",
    "            pivot.columns.name = None\n",
    "            pivot = pivot.rename(columns={\"period\": \"날짜\"})\n",
    "            return pivot\n",
    "\n",
    "        else:\n",
    "            return res\n",
    "\n",
    "    def datalab_shopping_category_device(self, **kwargs):\n",
    "        \"\"\"\n",
    "        쇼핑인사이트 분야 내 기기별 트렌드 조회\n",
    "        - API 레퍼런스: https://developers.naver.com/docs/serviceapi/datalab/shopping/shopping.md\n",
    "        \"\"\"\n",
    "        url = \"https://openapi.naver.com/v1/datalab/shopping/category/device\"\n",
    "        data = {}\n",
    "        for k, v in kwargs.items():\n",
    "            data[k] = v\n",
    "        data = json.dumps(data, ensure_ascii=False).encode(\"utf-8\")\n",
    "        res = requests.post(url, data=data, headers=self.headers)\n",
    "        if res.status_code == 200:\n",
    "            data = res.json()['results']\n",
    "            df = pd.DataFrame(data[0]['data'])\n",
    "            df = df[['group', 'period', 'ratio']]\n",
    "            pivot = pd.pivot(df, index='period', columns=[\n",
    "                             'group'], values='ratio').reset_index()\n",
    "            pivot.columns.name = None\n",
    "            pivot = pivot.rename(columns={\"period\": \"날짜\"})\n",
    "            return pivot\n",
    "\n",
    "        else:\n",
    "            return res\n",
    "\n",
    "    def datalab_shopping_category_gender(self, **kwargs):\n",
    "        \"\"\"\n",
    "        쇼핑인사이트 분야 내 성별 트렌드 조회\n",
    "        - API 레퍼런스: https://developers.naver.com/docs/serviceapi/datalab/shopping/shopping.md\n",
    "        \"\"\"\n",
    "        url = \"https://openapi.naver.com/v1/datalab/shopping/category/gender\"\n",
    "        data = {}\n",
    "        for k, v in kwargs.items():\n",
    "            data[k] = v\n",
    "        data = json.dumps(data, ensure_ascii=False).encode(\"utf-8\")\n",
    "        res = requests.post(url, data=data, headers=self.headers)\n",
    "        if res.status_code == 200:\n",
    "            data = res.json()['results']\n",
    "            df = pd.DataFrame(data[0]['data'])\n",
    "            df = df[['group', 'period', 'ratio']]\n",
    "            pivot = pd.pivot(df, index='period', columns=[\n",
    "                             'group'], values='ratio').reset_index()\n",
    "            pivot.columns.name = None\n",
    "            pivot = pivot.rename(columns={\"period\": \"날짜\"})\n",
    "            return pivot\n",
    "\n",
    "        else:\n",
    "            return res\n",
    "\n",
    "    def datalab_shopping_category_age(self, **kwargs):\n",
    "        \"\"\"\n",
    "        쇼핑인사이트 분야 내 연령별 트렌드 조회\n",
    "        - API 레퍼런스: https://developers.naver.com/docs/serviceapi/datalab/shopping/shopping.md\n",
    "        \"\"\"\n",
    "        url = \"https://openapi.naver.com/v1/datalab/shopping/category/age\"\n",
    "        data = {}\n",
    "        for k, v in kwargs.items():\n",
    "            data[k] = v\n",
    "        data = json.dumps(data, ensure_ascii=False).encode(\"utf-8\")\n",
    "        res = requests.post(url, data=data, headers=self.headers)\n",
    "        if res.status_code == 200:\n",
    "            data = res.json()['results']\n",
    "            df = pd.DataFrame(data[0]['data'])\n",
    "            df = df[['group', 'period', 'ratio']]\n",
    "            pivot = pd.pivot(df, index='period', columns=[\n",
    "                             'group'], values='ratio').reset_index()\n",
    "            pivot.columns.name = None\n",
    "            pivot = pivot.rename(columns={\"period\": \"날짜\"})\n",
    "            return pivot\n",
    "\n",
    "        else:\n",
    "            return res\n",
    "\n",
    "    def datalab_shopping_category_keywords(self, **kwargs):\n",
    "        \"\"\"\n",
    "        쇼핑인사이트 키워드별 트렌드 조회\n",
    "        - API 레퍼런스: https://developers.naver.com/docs/serviceapi/datalab/shopping/shopping.md\n",
    "        \"\"\"\n",
    "        url = \"https://openapi.naver.com/v1/datalab/shopping/category/keywords\"\n",
    "        data = {}\n",
    "        for k, v in kwargs.items():\n",
    "            data[k] = v\n",
    "        data = json.dumps(data, ensure_ascii=False).encode(\"utf-8\")\n",
    "        res = requests.post(url, data=data, headers=self.headers)\n",
    "        if res.status_code == 200:\n",
    "            data = res.json()['results']\n",
    "            num = len(data)\n",
    "            df = pd.DataFrame()\n",
    "            for i in range(num):\n",
    "                sub = pd.DataFrame(data[i]['data'])\n",
    "                sub['title'] = data[i]['title']\n",
    "                sub = sub[['title', 'period', 'ratio']]\n",
    "                df = pd.concat([df, sub], axis=0, ignore_index=True)\n",
    "            pivot = pd.pivot(df, index='period', columns='title',\n",
    "                             values='ratio').reset_index()\n",
    "            pivot.columns.name = None\n",
    "            pivot = pivot.rename(columns={\"period\": \"날짜\"})\n",
    "            return pivot\n",
    "\n",
    "        else:\n",
    "            return res\n",
    "\n",
    "    def datalab_shopping_category_keyword_device(self, **kwargs):\n",
    "        \"\"\"\n",
    "        쇼핑인사이트 키워드 기기별 트렌드 조회\n",
    "        - API 레퍼런스: https://developers.naver.com/docs/serviceapi/datalab/shopping/shopping.md\n",
    "        \"\"\"\n",
    "        url = \"https://openapi.naver.com/v1/datalab/shopping/category/keyword/device\"\n",
    "        data = {}\n",
    "        for k, v in kwargs.items():\n",
    "            data[k] = v\n",
    "        data = json.dumps(data, ensure_ascii=False).encode(\"utf-8\")\n",
    "        res = requests.post(url, data=data, headers=self.headers)\n",
    "\n",
    "        if res.status_code == 200:\n",
    "            data = res.json()['results']\n",
    "            df = pd.DataFrame(data[0]['data'])\n",
    "            df = df[['group', 'period', 'ratio']]\n",
    "            pivot = pd.pivot(df, index='period', columns=[\n",
    "                             'group'], values='ratio').reset_index()\n",
    "            pivot.columns.name = None\n",
    "            pivot = pivot.rename(columns={\"period\": \"날짜\"})\n",
    "            return pivot\n",
    "\n",
    "        else:\n",
    "            return res\n",
    "\n",
    "    def datalab_shopping_category_keyword_gender(self, **kwargs):\n",
    "        \"\"\"\n",
    "        쇼핑인사이트 키워드 성별 트렌드 조회\n",
    "        - API 레퍼런스: https://developers.naver.com/docs/serviceapi/datalab/shopping/shopping.md\n",
    "        \"\"\"\n",
    "        url = \"https://openapi.naver.com/v1/datalab/shopping/category/keyword/gender\"\n",
    "        data = {}\n",
    "        for k, v in kwargs.items():\n",
    "            data[k] = v\n",
    "        data = json.dumps(data, ensure_ascii=False).encode(\"utf-8\")\n",
    "        res = requests.post(url, data=data, headers=self.headers)\n",
    "\n",
    "        if res.status_code == 200:\n",
    "            data = res.json()['results']\n",
    "            df = pd.DataFrame(data[0]['data'])\n",
    "            df = df[['group', 'period', 'ratio']]\n",
    "            pivot = pd.pivot(df, index='period', columns=[\n",
    "                             'group'], values='ratio').reset_index()\n",
    "            pivot.columns.name = None\n",
    "            pivot = pivot.rename(columns={\"period\": \"날짜\"})\n",
    "            return pivot\n",
    "\n",
    "        else:\n",
    "            return res\n",
    "\n",
    "    def datalab_shopping_category_keyword_age(self, **kwargs):\n",
    "        \"\"\"\n",
    "        쇼핑인사이트 키워드 연령별 트렌드 조회\n",
    "        - API 레퍼런스: https://developers.naver.com/docs/serviceapi/datalab/shopping/shopping.md\n",
    "        \"\"\"\n",
    "        url = \"https://openapi.naver.com/v1/datalab/shopping/category/keyword/age\"\n",
    "        data = {}\n",
    "        for k, v in kwargs.items():\n",
    "            data[k] = v\n",
    "        data = json.dumps(data, ensure_ascii=False).encode(\"utf-8\")\n",
    "        res = requests.post(url, data=data, headers=self.headers)\n",
    "\n",
    "        if res.status_code == 200:\n",
    "            data = res.json()['results']\n",
    "            df = pd.DataFrame(data[0]['data'])\n",
    "            df = df[['group', 'period', 'ratio']]\n",
    "            pivot = pd.pivot(df, index='period', columns=[\n",
    "                             'group'], values='ratio').reset_index()\n",
    "            pivot.columns.name = None\n",
    "            pivot = pivot.rename(columns={\"period\": \"날짜\"})\n",
    "            return pivot\n",
    "\n",
    "        else:\n",
    "            return res\n",
    "\n",
    "    def util_shorturl(self, url):\n",
    "        \"\"\"\n",
    "        단축 URL 요청(JSON)\n",
    "        - API 레퍼런스: https://developers.naver.com/docs/utils/shortenurl/\n",
    "        \"\"\"\n",
    "        req_url = f\"https://openapi.naver.com/v1/util/shorturl?url={url}\"\n",
    "        res = requests.get(req_url, headers=self.headers)\n",
    "        if res.status_code == 200:\n",
    "            return res.json()\n",
    "        else:\n",
    "            return res\n",
    "        \n",
    "    def papago_n2mt(self, **kwargs):\n",
    "        \"\"\"\n",
    "        Papago 번역\n",
    "        - API 레퍼런스: https://developers.naver.com/docs/papago/papago-nmt-api-reference.md\n",
    "        \"\"\"\n",
    "        url = \"https://openapi.naver.com/v1/papago/n2mt\"\n",
    "        data = {}\n",
    "        for k, v in kwargs.items():\n",
    "            data[k] = v\n",
    "        data = json.dumps(data, ensure_ascii=False).encode(\"utf-8\")\n",
    "        res = requests.post(url, data=data, headers=self.headers)\n",
    "        if res.status_code == 200:\n",
    "            return res.json()['message']['result']['translatedText']\n",
    "        else:\n",
    "            return res\n",
    "        \n",
    "    def krdict_romanization(self, **kwargs):\n",
    "        \"\"\"\n",
    "        한글 인명-로마자 변환\n",
    "        - API 레퍼런스: https://developers.naver.com/docs/papago/papago-romanization-api-reference.md\n",
    "        \"\"\"\n",
    "        url = \"https://openapi.naver.com/v1/krdict/romanization?\"\n",
    "        for k, v in kwargs.items():\n",
    "            url += f\"{k}={v}&\"\n",
    "        res = requests.get(url, headers=self.headers)\n",
    "        if res.status_code == 200:\n",
    "            return pd.DataFrame(res.json()['aResult'][0]['aItems'])\n",
    "        else:\n",
    "            return res\n",
    "\n",
    "    def search_blog(self, **kwargs):\n",
    "        \"\"\"\n",
    "        검색 블로그\n",
    "        - API 레퍼런스: https://developers.naver.com/docs/serviceapi/search/blog/blog.md\n",
    "        \"\"\"\n",
    "        url = \"https://openapi.naver.com/v1/search/blog.json?\"\n",
    "        for k, v in kwargs.items():\n",
    "            url += f\"{k}={v}&\"\n",
    "        res = requests.get(url, headers=self.headers)\n",
    "        if res.status_code == 200:\n",
    "            return pd.DataFrame(res.json()['items'])\n",
    "        else:\n",
    "            return res\n",
    "\n",
    "    def search_news(self, **kwargs):\n",
    "        \"\"\"\n",
    "        검색 뉴스\n",
    "        - API 레퍼런스: https://developers.naver.com/docs/serviceapi/search/news/news.md\n",
    "        \"\"\"\n",
    "        url = \"https://openapi.naver.com/v1/search/news.json?\"\n",
    "        for k, v in kwargs.items():\n",
    "            url += f\"{k}={v}&\"\n",
    "        res = requests.get(url, headers=self.headers)\n",
    "        if res.status_code == 200:\n",
    "            return pd.DataFrame(res.json()['items'])\n",
    "        else:\n",
    "            return res\n",
    "        \n",
    "    def search_book(self, **kwargs):\n",
    "        \"\"\"\n",
    "        검색 책\n",
    "        - API 레퍼런스: https://developers.naver.com/docs/serviceapi/search/book/book.md#%EC%B1%85\n",
    "        \"\"\"\n",
    "        url = \"https://openapi.naver.com/v1/search/book.json?\"\n",
    "        for k, v in kwargs.items():\n",
    "            url += f\"{k}={v}&\"\n",
    "        res = requests.get(url, headers=self.headers)\n",
    "        if res.status_code == 200:\n",
    "            return pd.DataFrame(res.json()['items'])\n",
    "        else:\n",
    "            return res\n",
    "        \n",
    "    def search_encyc(self, **kwargs):\n",
    "        \"\"\"\n",
    "        검색 백과사전\n",
    "        - API 레퍼런스: https://developers.naver.com/docs/serviceapi/search/encyclopedia/encyclopedia.md\n",
    "        \"\"\"\n",
    "        url = \"https://openapi.naver.com/v1/search/encyc.json?\"\n",
    "        for k, v in kwargs.items():\n",
    "            url += f\"{k}={v}&\"\n",
    "        res = requests.get(url, headers=self.headers)\n",
    "        if res.status_code == 200:\n",
    "            return pd.DataFrame(res.json()['items'])\n",
    "        else:\n",
    "            return res\n",
    "\n",
    "    def search_movie(self, **kwargs):\n",
    "        \"\"\"\n",
    "        검색 영화\n",
    "        - API 레퍼런스: https://developers.naver.com/docs/serviceapi/search/movie/movie.md\n",
    "        \"\"\"\n",
    "        url = \"https://openapi.naver.com/v1/search/movie.json?\"\n",
    "        for k, v in kwargs.items():\n",
    "            url += f\"{k}={v}&\"\n",
    "        res = requests.get(url, headers=self.headers)\n",
    "        if res.status_code == 200:\n",
    "            return pd.DataFrame(res.json()['items'])\n",
    "        else:\n",
    "            return res\n",
    "\n",
    "    def search_cafearticle(self, **kwargs):\n",
    "        \"\"\"\n",
    "        검색 카페글\n",
    "        - API 레퍼런스: https://developers.naver.com/docs/serviceapi/search/cafearticle/cafearticle.md\n",
    "        \"\"\"\n",
    "        url = \"https://openapi.naver.com/v1/search/cafearticle.json?\"\n",
    "        for k, v in kwargs.items():\n",
    "            url += f\"{k}={v}&\"\n",
    "        res = requests.get(url, headers=self.headers)\n",
    "        if res.status_code == 200:\n",
    "            return pd.DataFrame(res.json()['items'])\n",
    "        else:\n",
    "            return res\n",
    "\n",
    "    def search_kin(self, **kwargs):\n",
    "        \"\"\"\n",
    "        검색 지식인\n",
    "        - API 레퍼런스: https://developers.naver.com/docs/serviceapi/search/kin/kin.md\n",
    "        \"\"\"\n",
    "        url = \"https://openapi.naver.com/v1/search/kin.json?\"\n",
    "        for k, v in kwargs.items():\n",
    "            url += f\"{k}={v}&\"\n",
    "        res = requests.get(url, headers=self.headers)\n",
    "        if res.status_code == 200:\n",
    "            return pd.DataFrame(res.json()['items'])\n",
    "        else:\n",
    "            return res\n",
    "\n",
    "    def search_webkr(self, **kwargs):\n",
    "        \"\"\"\n",
    "        검색 웹문서\n",
    "        - API 레퍼런스: https://developers.naver.com/docs/serviceapi/search/web/web.md\n",
    "        \"\"\"\n",
    "        url = \"https://openapi.naver.com/v1/search/webkr.json?\"\n",
    "        for k, v in kwargs.items():\n",
    "            url += f\"{k}={v}&\"\n",
    "        res = requests.get(url, headers=self.headers)\n",
    "        if res.status_code == 200:\n",
    "            return pd.DataFrame(res.json()['items'])\n",
    "        else:\n",
    "            return res\n",
    "\n",
    "    def search_image(self, **kwargs):\n",
    "        \"\"\"\n",
    "        검색 이미지\n",
    "        - API 레퍼런스: https://developers.naver.com/docs/serviceapi/search/image/image.md\n",
    "        \"\"\"\n",
    "        url = \"https://openapi.naver.com/v1/search/image?\"\n",
    "        for k, v in kwargs.items():\n",
    "            url += f\"{k}={v}&\"\n",
    "        res = requests.get(url, headers=self.headers)\n",
    "        if res.status_code == 200:\n",
    "            return pd.DataFrame(res.json()['items'])\n",
    "        else:\n",
    "            return res\n",
    "\n",
    "    def search_local(self, **kwargs):\n",
    "        \"\"\"\n",
    "        검색 지역\n",
    "        - API 레퍼런스: https://developers.naver.com/docs/serviceapi/search/local/local.md\n",
    "        \"\"\"\n",
    "        url = \"https://openapi.naver.com/v1/search/local.json?\"\n",
    "        for k, v in kwargs.items():\n",
    "            url += f\"{k}={v}&\"\n",
    "        res = requests.get(url, headers=self.headers)\n",
    "        if res.status_code == 200:\n",
    "            return pd.DataFrame(res.json()['items'])\n",
    "        else:\n",
    "            return res\n",
    "        \n",
    "    def search_shop(self, **kwargs):\n",
    "        \"\"\"\n",
    "        검색 쇼핑\n",
    "        - API 레퍼런스: https://developers.naver.com/docs/serviceapi/search/shopping/shopping.md\n",
    "        \"\"\"\n",
    "        url = \"https://openapi.naver.com/v1/search/shop.json?\"\n",
    "        for k, v in kwargs.items():\n",
    "            url += f\"{k}={v}&\"\n",
    "        res = requests.get(url, headers=self.headers)\n",
    "        if res.status_code == 200:\n",
    "            return pd.DataFrame(res.json()['items'])\n",
    "        else:\n",
    "            return res\n",
    "        \n",
    "    def search_doc(self, **kwargs):\n",
    "        \"\"\"\n",
    "        검색 전문자료\n",
    "        - API 레퍼런스: https://developers.naver.com/docs/serviceapi/search/doc/doc.md\n",
    "        \"\"\"\n",
    "        url = \"https://openapi.naver.com/v1/search/doc.json?\"\n",
    "        for k, v in kwargs.items():\n",
    "            url += f\"{k}={v}&\"\n",
    "        res = requests.get(url, headers=self.headers)\n",
    "        if res.status_code == 200:\n",
    "            return pd.DataFrame(res.json()['items'])\n",
    "        else:\n",
    "            return res"
   ]
  },
  {
   "cell_type": "markdown",
   "metadata": {},
   "source": [
    "### 통합 검색어 트렌드 API"
   ]
  },
  {
   "cell_type": "code",
   "execution_count": null,
   "metadata": {
    "ExecuteTime": {
     "end_time": "2022-09-02T02:53:07.752025Z",
     "start_time": "2022-09-02T02:53:07.555589Z"
    }
   },
   "outputs": [],
   "source": [
    "# 네이버 API 인스턴스\n",
    "naver = Naver(naver_id, naver_pw)\n",
    "\n",
    "# 파라미터\n",
    "startDate = \"2022-01-01\"\n",
    "endDate = \"2022-08-30\"\n",
    "timeUnit = \"date\"\n",
    "keywordGroups = [\n",
    "    {\n",
    "        \"groupName\": \"미국\",\n",
    "        \"keywords\": [\"연준\", \"FRB\", \"FED\", \"FOMC\"]\n",
    "    },\n",
    "\n",
    "    {\n",
    "        \"groupName\": \"한국\",\n",
    "        \"keywords\": [\"한국은행\", \"금융통화위원회\"]\n",
    "    }\n",
    "]\n",
    "\n",
    "\n",
    "# 요청\n",
    "df = naver.datalab_search(startDate=startDate,\n",
    "                          endDate=endDate,\n",
    "                          timeUnit=timeUnit,\n",
    "                          keywordGroups=keywordGroups)\n",
    "df"
   ]
  },
  {
   "cell_type": "markdown",
   "metadata": {},
   "source": [
    "### Shopping Insight API 1"
   ]
  },
  {
   "cell_type": "code",
   "execution_count": null,
   "metadata": {
    "ExecuteTime": {
     "end_time": "2022-09-02T02:53:08.455016Z",
     "start_time": "2022-09-02T02:53:08.321518Z"
    }
   },
   "outputs": [],
   "source": [
    "# 네이버 API 인스턴스\n",
    "naver = Naver(naver_id, naver_pw)\n",
    "\n",
    "# 파라미터\n",
    "startDate = \"2022-01-01\"\n",
    "endDate = \"2022-08-30\"\n",
    "timeUnit = \"date\"\n",
    "category = [\n",
    "    {\n",
    "        \"name\": \"카테고리1\",\n",
    "        \"param\": [\"50000000\"],\n",
    "    },\n",
    "    {\n",
    "        \"name\": \"카테고리2\",\n",
    "        \"param\": [\"50000002\"],\n",
    "    },\n",
    "]\n",
    "\n",
    "# 요청\n",
    "df = naver.datalab_shopping_categories(startDate=startDate,\n",
    "                                       endDate=endDate,\n",
    "                                       timeUnit=timeUnit,\n",
    "                                       category=category)\n",
    "df"
   ]
  },
  {
   "cell_type": "markdown",
   "metadata": {},
   "source": [
    "### Shopping Insight API 2"
   ]
  },
  {
   "cell_type": "code",
   "execution_count": null,
   "metadata": {
    "ExecuteTime": {
     "end_time": "2022-09-02T02:53:09.000848Z",
     "start_time": "2022-09-02T02:53:08.841378Z"
    }
   },
   "outputs": [],
   "source": [
    "# 네이버 API 인스턴스\n",
    "naver = Naver(naver_id, naver_pw)\n",
    "\n",
    "# 파라미터\n",
    "startDate = \"2022-01-01\"\n",
    "endDate = \"2022-08-30\"\n",
    "timeUnit = \"date\"\n",
    "category = \"50000002\"\n",
    "\n",
    "# 요청\n",
    "df = naver.datalab_shopping_category_device(startDate=startDate,\n",
    "                                            endDate=endDate,\n",
    "                                            timeUnit=timeUnit,\n",
    "                                            category=category)\n",
    "df"
   ]
  },
  {
   "cell_type": "markdown",
   "metadata": {},
   "source": [
    "### Shopping Insight API 3"
   ]
  },
  {
   "cell_type": "code",
   "execution_count": null,
   "metadata": {
    "ExecuteTime": {
     "end_time": "2022-09-02T02:53:09.528213Z",
     "start_time": "2022-09-02T02:53:09.336417Z"
    }
   },
   "outputs": [],
   "source": [
    "# 네이버 API 인스턴스\n",
    "naver = Naver(naver_id, naver_pw)\n",
    "\n",
    "# 파라미터\n",
    "startDate = \"2022-01-01\"\n",
    "endDate = \"2022-08-30\"\n",
    "timeUnit = \"date\"\n",
    "category = \"50000002\"\n",
    "\n",
    "# 요청\n",
    "df = naver.datalab_shopping_category_gender(startDate=startDate,\n",
    "                                            endDate=endDate,\n",
    "                                            timeUnit=timeUnit,\n",
    "                                            category=category)\n",
    "df"
   ]
  },
  {
   "cell_type": "markdown",
   "metadata": {},
   "source": [
    "### Shopping Insight API 4"
   ]
  },
  {
   "cell_type": "code",
   "execution_count": null,
   "metadata": {
    "ExecuteTime": {
     "end_time": "2022-09-02T02:53:10.248746Z",
     "start_time": "2022-09-02T02:53:09.854323Z"
    }
   },
   "outputs": [],
   "source": [
    "# 네이버 API 인스턴스\n",
    "naver = Naver(naver_id, naver_pw)\n",
    "\n",
    "# 파라미터\n",
    "startDate = \"2022-01-01\"\n",
    "endDate = \"2022-08-30\"\n",
    "timeUnit = \"date\"\n",
    "category = \"50000002\"\n",
    "\n",
    "# 요청\n",
    "df = naver.datalab_shopping_category_age(startDate=startDate,\n",
    "                                         endDate=endDate,\n",
    "                                         timeUnit=timeUnit,\n",
    "                                         category=category)\n",
    "df"
   ]
  },
  {
   "cell_type": "markdown",
   "metadata": {},
   "source": [
    "### Shopping Insight API 5"
   ]
  },
  {
   "cell_type": "code",
   "execution_count": null,
   "metadata": {
    "ExecuteTime": {
     "end_time": "2022-09-02T02:53:10.622091Z",
     "start_time": "2022-09-02T02:53:10.475278Z"
    },
    "scrolled": false
   },
   "outputs": [],
   "source": [
    "# 네이버 API 인스턴스\n",
    "naver = Naver(naver_id, naver_pw)\n",
    "\n",
    "# 파라미터\n",
    "startDate = \"2022-01-01\"\n",
    "endDate = \"2022-08-30\"\n",
    "timeUnit = \"date\"\n",
    "category = \"50000000\"\n",
    "keyword = [\n",
    "    {\n",
    "        \"name\": \"키워드1\",\n",
    "        \"param\": [\"정장\"],\n",
    "    },\n",
    "    {\n",
    "        \"name\": \"키워드2\",\n",
    "        \"param\": [\"비즈니스 캐주얼\"],\n",
    "    },\n",
    "]\n",
    "\n",
    "# 요청\n",
    "df = naver.datalab_shopping_category_keywords(startDate=startDate,\n",
    "                                              endDate=endDate,\n",
    "                                              timeUnit=timeUnit,\n",
    "                                              category=category,\n",
    "                                              keyword=keyword)\n",
    "df"
   ]
  },
  {
   "cell_type": "markdown",
   "metadata": {},
   "source": [
    "### Shopping Insight API 6"
   ]
  },
  {
   "cell_type": "code",
   "execution_count": null,
   "metadata": {
    "ExecuteTime": {
     "end_time": "2022-09-02T02:53:11.416025Z",
     "start_time": "2022-09-02T02:53:11.237539Z"
    }
   },
   "outputs": [],
   "source": [
    "# 네이버 API 인스턴스\n",
    "naver = Naver(naver_id, naver_pw)\n",
    "\n",
    "# 파라미터\n",
    "startDate = \"2022-01-01\"\n",
    "endDate = \"2022-08-30\"\n",
    "timeUnit = \"date\"\n",
    "category = \"50000000\"\n",
    "keyword = \"정장\"\n",
    "\n",
    "# 요청\n",
    "df = naver.datalab_shopping_category_keyword_device(startDate=startDate,\n",
    "                                                    endDate=endDate,\n",
    "                                                    timeUnit=timeUnit,\n",
    "                                                    category=category,\n",
    "                                                    keyword=keyword)\n",
    "df"
   ]
  },
  {
   "cell_type": "markdown",
   "metadata": {},
   "source": [
    "### Shopping Insight API 7"
   ]
  },
  {
   "cell_type": "code",
   "execution_count": null,
   "metadata": {
    "ExecuteTime": {
     "end_time": "2022-09-02T02:53:11.961882Z",
     "start_time": "2022-09-02T02:53:11.773059Z"
    },
    "hide_input": false
   },
   "outputs": [],
   "source": [
    "# 네이버 API 인스턴스\n",
    "naver = Naver(naver_id, naver_pw)\n",
    "\n",
    "# 파라미터\n",
    "startDate = \"2022-01-01\"\n",
    "endDate = \"2022-08-30\"\n",
    "timeUnit = \"date\"\n",
    "category = \"50000000\"\n",
    "keyword = \"정장\"\n",
    "\n",
    "# 요청\n",
    "df = naver.datalab_shopping_category_keyword_gender(startDate=startDate,\n",
    "                                                    endDate=endDate,\n",
    "                                                    timeUnit=timeUnit,\n",
    "                                                    category=category,\n",
    "                                                    keyword=keyword)\n",
    "df"
   ]
  },
  {
   "cell_type": "markdown",
   "metadata": {},
   "source": [
    "### Shopping Insight API 8"
   ]
  },
  {
   "cell_type": "code",
   "execution_count": null,
   "metadata": {
    "ExecuteTime": {
     "end_time": "2022-09-02T02:53:12.614970Z",
     "start_time": "2022-09-02T02:53:12.242393Z"
    },
    "hide_input": false
   },
   "outputs": [],
   "source": [
    "# 네이버 API 인스턴스\n",
    "naver = Naver(naver_id, naver_pw)\n",
    "\n",
    "# 파라미터\n",
    "startDate = \"2022-01-01\"\n",
    "endDate = \"2022-08-30\"\n",
    "timeUnit = \"date\"\n",
    "category = \"50000000\"\n",
    "keyword = \"정장\"\n",
    "\n",
    "# 요청\n",
    "df = naver.datalab_shopping_category_keyword_age(startDate=startDate,\n",
    "                                                 endDate=endDate,\n",
    "                                                 timeUnit=timeUnit,\n",
    "                                                 category=category,\n",
    "                                                 keyword=keyword)\n",
    "df"
   ]
  },
  {
   "cell_type": "markdown",
   "metadata": {},
   "source": [
    "### 단축 URL API"
   ]
  },
  {
   "cell_type": "code",
   "execution_count": null,
   "metadata": {
    "ExecuteTime": {
     "end_time": "2022-09-02T02:53:12.819642Z",
     "start_time": "2022-09-02T02:53:12.745739Z"
    }
   },
   "outputs": [],
   "source": [
    "# 네이버 API 인스턴스\n",
    "naver = Naver(naver_id, naver_pw)\n",
    "\n",
    "# 파라미터\n",
    "url = \"https://wooiljeong.github.io\"\n",
    "\n",
    "# 단축 URL API 호출\n",
    "res = naver.util_shorturl(url)\n",
    "res"
   ]
  },
  {
   "cell_type": "markdown",
   "metadata": {},
   "source": [
    "### Papago 번역 API"
   ]
  },
  {
   "cell_type": "code",
   "execution_count": null,
   "metadata": {
    "ExecuteTime": {
     "end_time": "2022-09-02T02:53:16.085645Z",
     "start_time": "2022-09-02T02:53:15.659718Z"
    }
   },
   "outputs": [],
   "source": [
    "# 네이버 API 인스턴스\n",
    "naver = Naver(naver_id, naver_pw)\n",
    "\n",
    "# 파라미터\n",
    "source = \"ko\"\n",
    "target = \"en\"\n",
    "text = \"파이썬으로 파파고 번역 API를 호출해봅니다.\"\n",
    "\n",
    "# 단축 URL API 호출\n",
    "res = naver.papago_n2mt(source = source, \n",
    "                        target = target, \n",
    "                        text = text)\n",
    "res"
   ]
  },
  {
   "cell_type": "markdown",
   "metadata": {},
   "source": [
    "### 한글 인명 로마자 변환 API"
   ]
  },
  {
   "cell_type": "code",
   "execution_count": null,
   "metadata": {
    "ExecuteTime": {
     "end_time": "2022-09-02T02:53:16.816247Z",
     "start_time": "2022-09-02T02:53:16.732863Z"
    }
   },
   "outputs": [],
   "source": [
    "# 네이버 API 인스턴스\n",
    "naver = Naver(naver_id, naver_pw)\n",
    "\n",
    "# 파라미터\n",
    "query = \"홍길동\"\n",
    "\n",
    "# 단축 URL API 호출\n",
    "df = naver.krdict_romanization(query=query)\n",
    "df"
   ]
  },
  {
   "cell_type": "markdown",
   "metadata": {},
   "source": [
    "### 검색 블로그"
   ]
  },
  {
   "cell_type": "code",
   "execution_count": null,
   "metadata": {
    "ExecuteTime": {
     "end_time": "2022-09-02T03:04:23.031504Z",
     "start_time": "2022-09-02T03:04:23.022506Z"
    },
    "scrolled": true
   },
   "outputs": [],
   "source": [
    "# 네이버 API 인스턴스\n",
    "naver = Naver(naver_id, naver_pw)\n",
    "\n",
    "# 파라미터\n",
    "query = \"아파트\"\n",
    "display = 100\n",
    "sort = \"sim\" # date\n",
    "\n",
    "# 단축 URL API 호출\n",
    "df = naver.search_blog(query=query, display=display, sort=sort)\n",
    "df"
   ]
  },
  {
   "cell_type": "markdown",
   "metadata": {},
   "source": [
    "### 검색 뉴스"
   ]
  },
  {
   "cell_type": "code",
   "execution_count": null,
   "metadata": {
    "ExecuteTime": {
     "end_time": "2022-09-02T04:22:05.173572Z",
     "start_time": "2022-09-02T04:22:05.162544Z"
    },
    "scrolled": true
   },
   "outputs": [],
   "source": [
    "# 네이버 API 인스턴스\n",
    "naver = Naver(naver_id, naver_pw)\n",
    "\n",
    "# 파라미터\n",
    "query = \"아파트\"\n",
    "display = 100\n",
    "sort = \"sim\" # date\n",
    "\n",
    "# 단축 URL API 호출\n",
    "df = naver.search_news(query=query, display=display, sort=sort)\n",
    "df"
   ]
  },
  {
   "cell_type": "markdown",
   "metadata": {},
   "source": [
    "### 검색 책"
   ]
  },
  {
   "cell_type": "code",
   "execution_count": null,
   "metadata": {
    "ExecuteTime": {
     "end_time": "2022-09-02T04:22:05.173572Z",
     "start_time": "2022-09-02T04:22:05.162544Z"
    },
    "scrolled": true
   },
   "outputs": [],
   "source": [
    "# 네이버 API 인스턴스\n",
    "naver = Naver(naver_id, naver_pw)\n",
    "\n",
    "# 파라미터\n",
    "query = \"사피엔스\"\n",
    "display = 100\n",
    "sort = \"sim\" # date\n",
    "\n",
    "# 단축 URL API 호출\n",
    "df = naver.search_book(query=query, display=display, sort=sort)\n",
    "df"
   ]
  },
  {
   "cell_type": "markdown",
   "metadata": {},
   "source": [
    "### 검색 백과사전"
   ]
  },
  {
   "cell_type": "code",
   "execution_count": null,
   "metadata": {
    "ExecuteTime": {
     "end_time": "2022-09-02T04:22:05.173572Z",
     "start_time": "2022-09-02T04:22:05.162544Z"
    },
    "scrolled": true
   },
   "outputs": [],
   "source": [
    "# 네이버 API 인스턴스\n",
    "naver = Naver(naver_id, naver_pw)\n",
    "\n",
    "# 파라미터\n",
    "query = \"사피엔스\"\n",
    "display = 100\n",
    "sort = \"sim\" # date\n",
    "\n",
    "# 단축 URL API 호출\n",
    "df = naver.search_encyc(query=query, display=display, sort=sort)\n",
    "df"
   ]
  },
  {
   "cell_type": "markdown",
   "metadata": {},
   "source": [
    "### 검색 영화"
   ]
  },
  {
   "cell_type": "code",
   "execution_count": null,
   "metadata": {
    "ExecuteTime": {
     "end_time": "2022-09-02T04:22:05.173572Z",
     "start_time": "2022-09-02T04:22:05.162544Z"
    },
    "scrolled": true
   },
   "outputs": [],
   "source": [
    "# 네이버 API 인스턴스\n",
    "naver = Naver(naver_id, naver_pw)\n",
    "\n",
    "# 파라미터\n",
    "query = \"인터스텔라\"\n",
    "display = 100\n",
    "sort = \"sim\" # date\n",
    "\n",
    "# 단축 URL API 호출\n",
    "df = naver.search_movie(query=query, display=display, sort=sort)\n",
    "df"
   ]
  },
  {
   "cell_type": "markdown",
   "metadata": {},
   "source": [
    "### 검색 카페글"
   ]
  },
  {
   "cell_type": "code",
   "execution_count": null,
   "metadata": {
    "ExecuteTime": {
     "end_time": "2022-09-02T04:22:05.173572Z",
     "start_time": "2022-09-02T04:22:05.162544Z"
    },
    "scrolled": true
   },
   "outputs": [],
   "source": [
    "# 네이버 API 인스턴스\n",
    "naver = Naver(naver_id, naver_pw)\n",
    "\n",
    "# 파라미터\n",
    "query = \"퀀트\"\n",
    "display = 100\n",
    "sort = \"sim\" # date\n",
    "\n",
    "# 단축 URL API 호출\n",
    "df = naver.search_cafearticle(query=query, display=display, sort=sort)\n",
    "df"
   ]
  },
  {
   "cell_type": "markdown",
   "metadata": {},
   "source": [
    "### 검색 지식인"
   ]
  },
  {
   "cell_type": "code",
   "execution_count": null,
   "metadata": {
    "ExecuteTime": {
     "end_time": "2022-09-02T04:22:05.173572Z",
     "start_time": "2022-09-02T04:22:05.162544Z"
    },
    "scrolled": true
   },
   "outputs": [],
   "source": [
    "# 네이버 API 인스턴스\n",
    "naver = Naver(naver_id, naver_pw)\n",
    "\n",
    "# 파라미터\n",
    "query = \"퀀트\"\n",
    "display = 100\n",
    "sort = \"sim\" # date\n",
    "\n",
    "# 단축 URL API 호출\n",
    "df = naver.search_kin(query=query, display=display, sort=sort)\n",
    "df"
   ]
  },
  {
   "cell_type": "markdown",
   "metadata": {},
   "source": [
    "### 검색 지역"
   ]
  },
  {
   "cell_type": "code",
   "execution_count": null,
   "metadata": {
    "ExecuteTime": {
     "end_time": "2022-09-02T04:48:29.134787Z",
     "start_time": "2022-09-02T04:48:29.129788Z"
    },
    "scrolled": true
   },
   "outputs": [],
   "source": [
    "# 네이버 API 인스턴스\n",
    "naver = Naver(naver_id, naver_pw)\n",
    "\n",
    "# 파라미터\n",
    "query = \"스타벅스\"\n",
    "display = 5\n",
    "sort = \"comment\" # random(유사도순), comment(카페/블로그 리뷰 개수 순)\n",
    "\n",
    "# 단축 URL API 호출\n",
    "df = naver.search_local(query=query, display=display, sort=sort)\n",
    "df"
   ]
  },
  {
   "cell_type": "markdown",
   "metadata": {},
   "source": [
    "### 검색 웹문서"
   ]
  },
  {
   "cell_type": "code",
   "execution_count": null,
   "metadata": {
    "ExecuteTime": {
     "end_time": "2022-09-02T04:27:53.083364Z",
     "start_time": "2022-09-02T04:27:53.081362Z"
    },
    "scrolled": true
   },
   "outputs": [],
   "source": [
    "# 네이버 API 인스턴스\n",
    "naver = Naver(naver_id, naver_pw)\n",
    "\n",
    "# 파라미터\n",
    "query = \"힙합\"\n",
    "display = 100\n",
    "sort = \"sim\" # sim, date, asc, dsc\n",
    "\n",
    "# 단축 URL API 호출\n",
    "df = naver.search_webkr(query=query, display=display, sort=sort)\n",
    "df"
   ]
  },
  {
   "cell_type": "markdown",
   "metadata": {},
   "source": [
    "### 검색 이미지"
   ]
  },
  {
   "cell_type": "code",
   "execution_count": null,
   "metadata": {
    "ExecuteTime": {
     "end_time": "2022-09-02T04:27:53.083364Z",
     "start_time": "2022-09-02T04:27:53.081362Z"
    },
    "scrolled": true
   },
   "outputs": [],
   "source": [
    "# 네이버 API 인스턴스\n",
    "naver = Naver(naver_id, naver_pw)\n",
    "\n",
    "# 파라미터\n",
    "query = \"고양이\"\n",
    "display = 100\n",
    "sort = \"sim\"\n",
    "\n",
    "# 단축 URL API 호출\n",
    "df = naver.search_image(query=query, display=display, sort=sort)\n",
    "df"
   ]
  },
  {
   "cell_type": "markdown",
   "metadata": {},
   "source": [
    "### 검색 쇼핑"
   ]
  },
  {
   "cell_type": "code",
   "execution_count": null,
   "metadata": {
    "ExecuteTime": {
     "end_time": "2022-09-02T04:27:53.083364Z",
     "start_time": "2022-09-02T04:27:53.081362Z"
    },
    "scrolled": true
   },
   "outputs": [],
   "source": [
    "# 네이버 API 인스턴스\n",
    "naver = Naver(naver_id, naver_pw)\n",
    "\n",
    "# 파라미터\n",
    "query = \"아이패드\"\n",
    "exclude = \"used:rental:cbshop\"\n",
    "display = 100\n",
    "sort = \"sim\" # sim, date, asc, dsc\n",
    "\n",
    "# 단축 URL API 호출\n",
    "df = naver.search_shop(query=query, exclude=exclude, display=display, sort=sort)\n",
    "df"
   ]
  },
  {
   "cell_type": "markdown",
   "metadata": {},
   "source": [
    "### 검색 전문자료"
   ]
  },
  {
   "cell_type": "code",
   "execution_count": null,
   "metadata": {
    "ExecuteTime": {
     "end_time": "2022-09-02T04:27:53.083364Z",
     "start_time": "2022-09-02T04:27:53.081362Z"
    },
    "scrolled": true
   },
   "outputs": [],
   "source": [
    "# 네이버 API 인스턴스\n",
    "naver = Naver(naver_id, naver_pw)\n",
    "\n",
    "# 파라미터\n",
    "query = \"부동산\"\n",
    "display = 100\n",
    "sort = \"sim\"\n",
    "\n",
    "# 단축 URL API 호출\n",
    "df = naver.search_doc(query=query, display=display, sort=sort)\n",
    "df"
   ]
  },
  {
   "cell_type": "markdown",
   "metadata": {},
   "source": [
    "## NAVER CLOUD PLATFORM"
   ]
  },
  {
   "cell_type": "code",
   "execution_count": null,
   "metadata": {
    "ExecuteTime": {
     "end_time": "2022-08-31T06:18:15.936612Z",
     "start_time": "2022-08-31T06:18:15.926610Z"
    }
   },
   "outputs": [],
   "source": [
    "class NaverCloudPlatform:\n",
    "    \"\"\"\n",
    "    네이버 클라우드 플랫폼 OPEN API 클래스\n",
    "    \"\"\"\n",
    "    def __init__(self, client_id, client_secret):\n",
    "        \"\"\"\n",
    "        API 인증 정보 초기화\n",
    "        \"\"\"\n",
    "        self.headers = {\n",
    "            \"X-NCP-APIGW-API-KEY-ID\": client_id,\n",
    "            \"X-NCP-APIGW-API-KEY\": client_secret,\n",
    "        }\n",
    "        \n",
    "    def geocoding(self, query):\n",
    "        \"\"\"\n",
    "        지오코딩 API\n",
    "        - API 레퍼런스: https://api.ncloud-docs.com/docs/ai-naver-mapsgeocoding\n",
    "        \"\"\"\n",
    "        url = f\"https://naveropenapi.apigw.ntruss.com/map-geocode/v2/geocode?query={query}\"\n",
    "        res = requests.get(url, headers=self.headers)\n",
    "        if res.status_code == 200:\n",
    "            return res.json()\n",
    "        else:\n",
    "            return res\n",
    "\n",
    "    def reverse_geocoding(self, lon, lat):\n",
    "        \"\"\"\n",
    "        리버스 지오코딩 API\n",
    "        - API 레퍼런스: https://api.ncloud-docs.com/docs/ai-naver-mapsreversegeocoding\n",
    "        \"\"\"\n",
    "        coords = f\"{lon},{lat}\"\n",
    "        url = f\"https://naveropenapi.apigw.ntruss.com/map-reversegeocode/v2/gc?coords={coords}&output=json&orders=addr\"\n",
    "        res = requests.get(url, headers=self.headers)\n",
    "        if res.status_code == 200:\n",
    "            return res.json()\n",
    "        else:\n",
    "            return res\n",
    "        \n",
    "    def directions5(self, **kwargs):\n",
    "        \"\"\"\n",
    "        Directions5 API\n",
    "        - API 레퍼런스: https://api.ncloud-docs.com/docs/ai-naver-mapsdirections\n",
    "        \"\"\"\n",
    "        url = f\"https://naveropenapi.apigw.ntruss.com/map-direction/v1/driving?\"\n",
    "        for k, v in kwargs.items():\n",
    "            url += f\"{k}={v}&\"\n",
    "        res = requests.get(url, headers=self.headers)\n",
    "        if res.status_code == 200:\n",
    "            return res.json()\n",
    "        else:\n",
    "            return res\n",
    "\n",
    "    def directions15(self, **kwargs):\n",
    "        \"\"\"\n",
    "        Directions15 API\n",
    "        - API 레퍼런스: https://api.ncloud-docs.com/docs/ai-naver-mapsdirections15\n",
    "        \"\"\"\n",
    "        url = f\"https://naveropenapi.apigw.ntruss.com/map-direction-15/v1/driving?\"\n",
    "        for k, v in kwargs.items():\n",
    "            url += f\"{k}={v}&\"\n",
    "        res = requests.get(url, headers=self.headers)\n",
    "        if res.status_code == 200:\n",
    "            return res.json()\n",
    "        else:\n",
    "            return res"
   ]
  },
  {
   "cell_type": "markdown",
   "metadata": {},
   "source": [
    "### Directions5"
   ]
  },
  {
   "cell_type": "code",
   "execution_count": null,
   "metadata": {
    "ExecuteTime": {
     "end_time": "2022-08-31T06:46:57.815986Z",
     "start_time": "2022-08-31T06:46:57.587663Z"
    },
    "scrolled": true
   },
   "outputs": [],
   "source": [
    "# 클라우드 API 인스턴스\n",
    "ncp = NaverCloudPlatform(cloud_id, cloud_pw)\n",
    "\n",
    "# 파라미터\n",
    "start = \"127.1115061,37.3864539\"\n",
    "goal = \"127.01953476,37.5160802\"\n",
    "\n",
    "# 지오코딩 요청\n",
    "res = ncp.directions5(start=start, goal=goal)\n",
    "res"
   ]
  },
  {
   "cell_type": "markdown",
   "metadata": {},
   "source": [
    "### Directions15"
   ]
  },
  {
   "cell_type": "code",
   "execution_count": null,
   "metadata": {
    "ExecuteTime": {
     "end_time": "2022-08-31T06:15:24.731954Z",
     "start_time": "2022-08-31T06:15:24.523579Z"
    },
    "scrolled": true
   },
   "outputs": [],
   "source": [
    "# 클라우드 API 인스턴스\n",
    "ncp = NaverCloudPlatform(cloud_id, cloud_pw)\n",
    "\n",
    "# 파라미터\n",
    "start = \"127.1115061,37.3864539\"\n",
    "goal = \"127.01953476,37.5160802\"\n",
    "\n",
    "# 지오코딩 요청\n",
    "res = ncp.directions15(start=start, goal=goal)\n",
    "res"
   ]
  },
  {
   "cell_type": "markdown",
   "metadata": {},
   "source": [
    "### Geocoding"
   ]
  },
  {
   "cell_type": "code",
   "execution_count": null,
   "metadata": {
    "ExecuteTime": {
     "end_time": "2022-09-01T02:36:12.952064Z",
     "start_time": "2022-09-01T02:36:12.848042Z"
    },
    "scrolled": false
   },
   "outputs": [],
   "source": [
    "# 클라우드 API 인스턴스\n",
    "ncp = NaverCloudPlatform(cloud_id, cloud_pw)\n",
    "\n",
    "# 주소\n",
    "query = \"해밀동 산8\"\n",
    "\n",
    "# 지오코딩 요청\n",
    "res = ncp.geocoding(query)\n",
    "res"
   ]
  },
  {
   "cell_type": "markdown",
   "metadata": {},
   "source": [
    "### Reverse Geocoding"
   ]
  },
  {
   "cell_type": "code",
   "execution_count": null,
   "metadata": {
    "ExecuteTime": {
     "end_time": "2022-08-31T07:36:54.044174Z",
     "start_time": "2022-08-31T07:36:53.997557Z"
    },
    "scrolled": false
   },
   "outputs": [],
   "source": [
    "# 클라우드 API 인스턴스\n",
    "ncp = NaverCloudPlatform(cloud_id, cloud_pw)\n",
    "\n",
    "# 경도, 위도\n",
    "lon, lat = 127.228954, 37.376474\n",
    "\n",
    "# 지오코딩 요청\n",
    "res = ncp.reverse_geocoding(lon, lat)\n",
    "res"
   ]
  }
 ],
 "metadata": {
  "hide_input": false,
  "interpreter": {
   "hash": "6bf4aecc11a847aac6a9e6e2b9c291ef4290b1eb318ab8e31001f30b16d468fc"
  },
  "kernelspec": {
   "display_name": "Python 3 (ipykernel)",
   "language": "python",
   "name": "python3"
  },
  "language_info": {
   "codemirror_mode": {
    "name": "ipython",
    "version": 3
   },
   "file_extension": ".py",
   "mimetype": "text/x-python",
   "name": "python",
   "nbconvert_exporter": "python",
   "pygments_lexer": "ipython3",
   "version": "3.9.12"
  },
  "toc": {
   "base_numbering": 1,
   "nav_menu": {},
   "number_sections": true,
   "sideBar": true,
   "skip_h1_title": false,
   "title_cell": "Table of Contents",
   "title_sidebar": "Contents",
   "toc_cell": false,
   "toc_position": {
    "height": "calc(100% - 180px)",
    "left": "10px",
    "top": "150px",
    "width": "256.648px"
   },
   "toc_section_display": true,
   "toc_window_display": true
  },
  "varInspector": {
   "cols": {
    "lenName": 16,
    "lenType": 16,
    "lenVar": 40
   },
   "kernels_config": {
    "python": {
     "delete_cmd_postfix": "",
     "delete_cmd_prefix": "del ",
     "library": "var_list.py",
     "varRefreshCmd": "print(var_dic_list())"
    },
    "r": {
     "delete_cmd_postfix": ") ",
     "delete_cmd_prefix": "rm(",
     "library": "var_list.r",
     "varRefreshCmd": "cat(var_dic_list()) "
    }
   },
   "types_to_exclude": [
    "module",
    "function",
    "builtin_function_or_method",
    "instance",
    "_Feature"
   ],
   "window_display": false
  }
 },
 "nbformat": 4,
 "nbformat_minor": 2
}
