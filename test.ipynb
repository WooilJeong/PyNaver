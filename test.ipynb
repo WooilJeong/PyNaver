{
 "cells": [
  {
   "cell_type": "markdown",
   "metadata": {},
   "source": [
    "# TEST"
   ]
  },
  {
   "cell_type": "code",
   "execution_count": null,
   "metadata": {
    "ExecuteTime": {
     "end_time": "2022-09-02T02:45:27.896372Z",
     "start_time": "2022-09-02T02:45:27.541528Z"
    }
   },
   "outputs": [],
   "source": [
    "import datetime\n",
    "import numpy as np\n",
    "import pandas as pd\n",
    "from PyNaver import Naver, NaverCloudPlatform, Map\n",
    "\n",
    "pd.set_option('display.max_columns', 250)\n",
    "pd.set_option('display.max_rows', 250)\n",
    "pd.set_option('display.width', 100)"
   ]
  },
  {
   "cell_type": "code",
   "execution_count": null,
   "metadata": {
    "ExecuteTime": {
     "end_time": "2022-09-02T02:45:27.941949Z",
     "start_time": "2022-09-02T02:45:27.927347Z"
    }
   },
   "outputs": [],
   "source": [
    "from config import config\n",
    "\n",
    "# 네이버 파파고 API\n",
    "naver_id = config['naver']['client_id']\n",
    "naver_pw = config['naver']['client_secret']\n",
    "\n",
    "# 네이버 클라우드 플랫폼 API\n",
    "cloud_id = config['cloud']['client_id']\n",
    "cloud_pw = config['cloud']['client_secret']"
   ]
  },
  {
   "cell_type": "markdown",
   "metadata": {},
   "source": [
    "## API INSTANCES"
   ]
  },
  {
   "cell_type": "code",
   "execution_count": null,
   "metadata": {
    "ExecuteTime": {
     "end_time": "2022-09-02T02:45:28.762951Z",
     "start_time": "2022-09-02T02:45:28.754942Z"
    }
   },
   "outputs": [],
   "source": [
    "# API 인스턴스 생성\n",
    "maps = Map()\n",
    "naver = Naver(naver_id, naver_pw)\n",
    "ncp = NaverCloudPlatform(cloud_id, cloud_pw)"
   ]
  },
  {
   "cell_type": "markdown",
   "metadata": {},
   "source": [
    "## CALL"
   ]
  },
  {
   "cell_type": "code",
   "execution_count": null,
   "metadata": {
    "ExecuteTime": {
     "end_time": "2022-09-02T02:25:18.914793Z",
     "start_time": "2022-09-02T02:25:17.765790Z"
    },
    "scrolled": true
   },
   "outputs": [],
   "source": [
    "# 파라미터\n",
    "start_address = \"서울 강남구 도산대로 102\"\n",
    "goal_address = \"경기 성남시 분당구 판교역로 160\"\n",
    "s = ncp.geocoding(query=start_address)\n",
    "g = ncp.geocoding(query=goal_address)\n",
    "sx, sy = s['addresses'][0]['x'], s['addresses'][0]['y']\n",
    "ex, ey = g['addresses'][0]['x'], g['addresses'][0]['y']\n",
    "start, goal = f\"{sx},{sy}\", f\"{ex},{ey}\"\n",
    "today = datetime.date.today()\n",
    "departureTime = (today + datetime.timedelta(days=-today.weekday(), weeks=1)).strftime(\"%Y-%m-%dT08:00:00\")\n",
    "\n",
    "# API 호출\n",
    "data = maps.transit_directions_point_to_point(start=start,\n",
    "                                              goal=goal,\n",
    "                                              departureTime=departureTime)\n",
    "\n",
    "df = pd.DataFrame(data['paths'])"
   ]
  },
  {
   "cell_type": "code",
   "execution_count": null,
   "metadata": {},
   "outputs": [],
   "source": []
  },
  {
   "cell_type": "code",
   "execution_count": null,
   "metadata": {},
   "outputs": [],
   "source": []
  },
  {
   "cell_type": "code",
   "execution_count": null,
   "metadata": {},
   "outputs": [],
   "source": []
  },
  {
   "cell_type": "code",
   "execution_count": null,
   "metadata": {},
   "outputs": [],
   "source": []
  },
  {
   "cell_type": "code",
   "execution_count": null,
   "metadata": {},
   "outputs": [],
   "source": []
  },
  {
   "cell_type": "code",
   "execution_count": null,
   "metadata": {},
   "outputs": [],
   "source": []
  },
  {
   "cell_type": "code",
   "execution_count": null,
   "metadata": {},
   "outputs": [],
   "source": []
  },
  {
   "cell_type": "code",
   "execution_count": null,
   "metadata": {},
   "outputs": [],
   "source": []
  },
  {
   "cell_type": "code",
   "execution_count": null,
   "metadata": {},
   "outputs": [],
   "source": []
  },
  {
   "cell_type": "code",
   "execution_count": null,
   "metadata": {},
   "outputs": [],
   "source": []
  }
 ],
 "metadata": {
  "hide_input": false,
  "kernelspec": {
   "display_name": "Python 3",
   "language": "python",
   "name": "python3"
  },
  "language_info": {
   "codemirror_mode": {
    "name": "ipython",
    "version": 3
   },
   "file_extension": ".py",
   "mimetype": "text/x-python",
   "name": "python",
   "nbconvert_exporter": "python",
   "pygments_lexer": "ipython3",
   "version": "3.8.5"
  },
  "toc": {
   "base_numbering": 1,
   "nav_menu": {},
   "number_sections": true,
   "sideBar": true,
   "skip_h1_title": false,
   "title_cell": "Table of Contents",
   "title_sidebar": "Contents",
   "toc_cell": false,
   "toc_position": {},
   "toc_section_display": true,
   "toc_window_display": false
  },
  "varInspector": {
   "cols": {
    "lenName": 16,
    "lenType": 16,
    "lenVar": 40
   },
   "kernels_config": {
    "python": {
     "delete_cmd_postfix": "",
     "delete_cmd_prefix": "del ",
     "library": "var_list.py",
     "varRefreshCmd": "print(var_dic_list())"
    },
    "r": {
     "delete_cmd_postfix": ") ",
     "delete_cmd_prefix": "rm(",
     "library": "var_list.r",
     "varRefreshCmd": "cat(var_dic_list()) "
    }
   },
   "types_to_exclude": [
    "module",
    "function",
    "builtin_function_or_method",
    "instance",
    "_Feature"
   ],
   "window_display": false
  }
 },
 "nbformat": 4,
 "nbformat_minor": 4
}
